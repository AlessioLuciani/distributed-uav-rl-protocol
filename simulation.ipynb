{
  "nbformat": 4,
  "nbformat_minor": 0,
  "metadata": {
    "language_info": {
      "codemirror_mode": {
        "name": "ipython",
        "version": 3
      },
      "file_extension": ".py",
      "mimetype": "text/x-python",
      "name": "python",
      "nbconvert_exporter": "python",
      "pygments_lexer": "ipython3",
      "version": "3.9.1-final"
    },
    "orig_nbformat": 2,
    "kernelspec": {
      "name": "python3",
      "display_name": "Python 3.9.1 64-bit ('durp': conda)",
      "metadata": {
        "interpreter": {
          "hash": "ad3b2c1c9ba1d7362819af9951b90963271aba6bda6a6815a50c7fa2bbb724c2"
        }
      }
    },
    "colab": {
      "name": "simulation.ipynb",
      "provenance": []
    }
  },
  "cells": [
    {
      "cell_type": "code",
      "metadata": {
        "id": "vFM-95bm7758",
        "outputId": "513a5a9a-a04f-4746-b706-9eb132c6d88b",
        "colab": {
          "base_uri": "https://localhost:8080/"
        }
      },
      "source": [
        "# Install the required dependencies, run this cell only if running the notebook on Google Colab\n",
        "!pip install -q tf-agents"
      ],
      "execution_count": 1,
      "outputs": [
        {
          "output_type": "stream",
          "text": [
            "\u001b[?25l\r\u001b[K     |▎                               | 10kB 7.8MB/s eta 0:00:01\r\u001b[K     |▌                               | 20kB 12.4MB/s eta 0:00:01\r\u001b[K     |▉                               | 30kB 9.5MB/s eta 0:00:01\r\u001b[K     |█                               | 40kB 8.0MB/s eta 0:00:01\r\u001b[K     |█▍                              | 51kB 4.7MB/s eta 0:00:01\r\u001b[K     |█▋                              | 61kB 5.2MB/s eta 0:00:01\r\u001b[K     |██                              | 71kB 5.2MB/s eta 0:00:01\r\u001b[K     |██▏                             | 81kB 5.4MB/s eta 0:00:01\r\u001b[K     |██▍                             | 92kB 5.6MB/s eta 0:00:01\r\u001b[K     |██▊                             | 102kB 5.9MB/s eta 0:00:01\r\u001b[K     |███                             | 112kB 5.9MB/s eta 0:00:01\r\u001b[K     |███▎                            | 122kB 5.9MB/s eta 0:00:01\r\u001b[K     |███▌                            | 133kB 5.9MB/s eta 0:00:01\r\u001b[K     |███▉                            | 143kB 5.9MB/s eta 0:00:01\r\u001b[K     |████                            | 153kB 5.9MB/s eta 0:00:01\r\u001b[K     |████▎                           | 163kB 5.9MB/s eta 0:00:01\r\u001b[K     |████▋                           | 174kB 5.9MB/s eta 0:00:01\r\u001b[K     |████▉                           | 184kB 5.9MB/s eta 0:00:01\r\u001b[K     |█████▏                          | 194kB 5.9MB/s eta 0:00:01\r\u001b[K     |█████▍                          | 204kB 5.9MB/s eta 0:00:01\r\u001b[K     |█████▊                          | 215kB 5.9MB/s eta 0:00:01\r\u001b[K     |██████                          | 225kB 5.9MB/s eta 0:00:01\r\u001b[K     |██████▏                         | 235kB 5.9MB/s eta 0:00:01\r\u001b[K     |██████▌                         | 245kB 5.9MB/s eta 0:00:01\r\u001b[K     |██████▊                         | 256kB 5.9MB/s eta 0:00:01\r\u001b[K     |███████                         | 266kB 5.9MB/s eta 0:00:01\r\u001b[K     |███████▎                        | 276kB 5.9MB/s eta 0:00:01\r\u001b[K     |███████▋                        | 286kB 5.9MB/s eta 0:00:01\r\u001b[K     |███████▉                        | 296kB 5.9MB/s eta 0:00:01\r\u001b[K     |████████                        | 307kB 5.9MB/s eta 0:00:01\r\u001b[K     |████████▍                       | 317kB 5.9MB/s eta 0:00:01\r\u001b[K     |████████▋                       | 327kB 5.9MB/s eta 0:00:01\r\u001b[K     |█████████                       | 337kB 5.9MB/s eta 0:00:01\r\u001b[K     |█████████▏                      | 348kB 5.9MB/s eta 0:00:01\r\u001b[K     |█████████▌                      | 358kB 5.9MB/s eta 0:00:01\r\u001b[K     |█████████▊                      | 368kB 5.9MB/s eta 0:00:01\r\u001b[K     |██████████                      | 378kB 5.9MB/s eta 0:00:01\r\u001b[K     |██████████▎                     | 389kB 5.9MB/s eta 0:00:01\r\u001b[K     |██████████▌                     | 399kB 5.9MB/s eta 0:00:01\r\u001b[K     |██████████▉                     | 409kB 5.9MB/s eta 0:00:01\r\u001b[K     |███████████                     | 419kB 5.9MB/s eta 0:00:01\r\u001b[K     |███████████▍                    | 430kB 5.9MB/s eta 0:00:01\r\u001b[K     |███████████▋                    | 440kB 5.9MB/s eta 0:00:01\r\u001b[K     |███████████▉                    | 450kB 5.9MB/s eta 0:00:01\r\u001b[K     |████████████▏                   | 460kB 5.9MB/s eta 0:00:01\r\u001b[K     |████████████▍                   | 471kB 5.9MB/s eta 0:00:01\r\u001b[K     |████████████▊                   | 481kB 5.9MB/s eta 0:00:01\r\u001b[K     |█████████████                   | 491kB 5.9MB/s eta 0:00:01\r\u001b[K     |█████████████▎                  | 501kB 5.9MB/s eta 0:00:01\r\u001b[K     |█████████████▌                  | 512kB 5.9MB/s eta 0:00:01\r\u001b[K     |█████████████▊                  | 522kB 5.9MB/s eta 0:00:01\r\u001b[K     |██████████████                  | 532kB 5.9MB/s eta 0:00:01\r\u001b[K     |██████████████▎                 | 542kB 5.9MB/s eta 0:00:01\r\u001b[K     |██████████████▋                 | 552kB 5.9MB/s eta 0:00:01\r\u001b[K     |██████████████▉                 | 563kB 5.9MB/s eta 0:00:01\r\u001b[K     |███████████████▏                | 573kB 5.9MB/s eta 0:00:01\r\u001b[K     |███████████████▍                | 583kB 5.9MB/s eta 0:00:01\r\u001b[K     |███████████████▋                | 593kB 5.9MB/s eta 0:00:01\r\u001b[K     |████████████████                | 604kB 5.9MB/s eta 0:00:01\r\u001b[K     |████████████████▏               | 614kB 5.9MB/s eta 0:00:01\r\u001b[K     |████████████████▌               | 624kB 5.9MB/s eta 0:00:01\r\u001b[K     |████████████████▊               | 634kB 5.9MB/s eta 0:00:01\r\u001b[K     |█████████████████               | 645kB 5.9MB/s eta 0:00:01\r\u001b[K     |█████████████████▎              | 655kB 5.9MB/s eta 0:00:01\r\u001b[K     |█████████████████▌              | 665kB 5.9MB/s eta 0:00:01\r\u001b[K     |█████████████████▉              | 675kB 5.9MB/s eta 0:00:01\r\u001b[K     |██████████████████              | 686kB 5.9MB/s eta 0:00:01\r\u001b[K     |██████████████████▍             | 696kB 5.9MB/s eta 0:00:01\r\u001b[K     |██████████████████▋             | 706kB 5.9MB/s eta 0:00:01\r\u001b[K     |███████████████████             | 716kB 5.9MB/s eta 0:00:01\r\u001b[K     |███████████████████▏            | 727kB 5.9MB/s eta 0:00:01\r\u001b[K     |███████████████████▌            | 737kB 5.9MB/s eta 0:00:01\r\u001b[K     |███████████████████▊            | 747kB 5.9MB/s eta 0:00:01\r\u001b[K     |████████████████████            | 757kB 5.9MB/s eta 0:00:01\r\u001b[K     |████████████████████▎           | 768kB 5.9MB/s eta 0:00:01\r\u001b[K     |████████████████████▌           | 778kB 5.9MB/s eta 0:00:01\r\u001b[K     |████████████████████▉           | 788kB 5.9MB/s eta 0:00:01\r\u001b[K     |█████████████████████           | 798kB 5.9MB/s eta 0:00:01\r\u001b[K     |█████████████████████▍          | 808kB 5.9MB/s eta 0:00:01\r\u001b[K     |█████████████████████▋          | 819kB 5.9MB/s eta 0:00:01\r\u001b[K     |█████████████████████▉          | 829kB 5.9MB/s eta 0:00:01\r\u001b[K     |██████████████████████▏         | 839kB 5.9MB/s eta 0:00:01\r\u001b[K     |██████████████████████▍         | 849kB 5.9MB/s eta 0:00:01\r\u001b[K     |██████████████████████▊         | 860kB 5.9MB/s eta 0:00:01\r\u001b[K     |███████████████████████         | 870kB 5.9MB/s eta 0:00:01\r\u001b[K     |███████████████████████▎        | 880kB 5.9MB/s eta 0:00:01\r\u001b[K     |███████████████████████▌        | 890kB 5.9MB/s eta 0:00:01\r\u001b[K     |███████████████████████▊        | 901kB 5.9MB/s eta 0:00:01\r\u001b[K     |████████████████████████        | 911kB 5.9MB/s eta 0:00:01\r\u001b[K     |████████████████████████▎       | 921kB 5.9MB/s eta 0:00:01\r\u001b[K     |████████████████████████▋       | 931kB 5.9MB/s eta 0:00:01\r\u001b[K     |████████████████████████▉       | 942kB 5.9MB/s eta 0:00:01\r\u001b[K     |█████████████████████████▏      | 952kB 5.9MB/s eta 0:00:01\r\u001b[K     |█████████████████████████▍      | 962kB 5.9MB/s eta 0:00:01\r\u001b[K     |█████████████████████████▋      | 972kB 5.9MB/s eta 0:00:01\r\u001b[K     |██████████████████████████      | 983kB 5.9MB/s eta 0:00:01\r\u001b[K     |██████████████████████████▏     | 993kB 5.9MB/s eta 0:00:01\r\u001b[K     |██████████████████████████▌     | 1.0MB 5.9MB/s eta 0:00:01\r\u001b[K     |██████████████████████████▊     | 1.0MB 5.9MB/s eta 0:00:01\r\u001b[K     |███████████████████████████     | 1.0MB 5.9MB/s eta 0:00:01\r\u001b[K     |███████████████████████████▎    | 1.0MB 5.9MB/s eta 0:00:01\r\u001b[K     |███████████████████████████▌    | 1.0MB 5.9MB/s eta 0:00:01\r\u001b[K     |███████████████████████████▉    | 1.1MB 5.9MB/s eta 0:00:01\r\u001b[K     |████████████████████████████    | 1.1MB 5.9MB/s eta 0:00:01\r\u001b[K     |████████████████████████████▍   | 1.1MB 5.9MB/s eta 0:00:01\r\u001b[K     |████████████████████████████▋   | 1.1MB 5.9MB/s eta 0:00:01\r\u001b[K     |█████████████████████████████   | 1.1MB 5.9MB/s eta 0:00:01\r\u001b[K     |█████████████████████████████▏  | 1.1MB 5.9MB/s eta 0:00:01\r\u001b[K     |█████████████████████████████▍  | 1.1MB 5.9MB/s eta 0:00:01\r\u001b[K     |█████████████████████████████▊  | 1.1MB 5.9MB/s eta 0:00:01\r\u001b[K     |██████████████████████████████  | 1.1MB 5.9MB/s eta 0:00:01\r\u001b[K     |██████████████████████████████▎ | 1.1MB 5.9MB/s eta 0:00:01\r\u001b[K     |██████████████████████████████▌ | 1.2MB 5.9MB/s eta 0:00:01\r\u001b[K     |██████████████████████████████▉ | 1.2MB 5.9MB/s eta 0:00:01\r\u001b[K     |███████████████████████████████ | 1.2MB 5.9MB/s eta 0:00:01\r\u001b[K     |███████████████████████████████▎| 1.2MB 5.9MB/s eta 0:00:01\r\u001b[K     |███████████████████████████████▋| 1.2MB 5.9MB/s eta 0:00:01\r\u001b[K     |███████████████████████████████▉| 1.2MB 5.9MB/s eta 0:00:01\r\u001b[K     |████████████████████████████████| 1.2MB 5.9MB/s \n",
            "\u001b[?25h"
          ],
          "name": "stdout"
        }
      ]
    },
    {
      "cell_type": "code",
      "metadata": {
        "id": "sA1ej8o2776K"
      },
      "source": [
        "%matplotlib inline\n",
        "import matplotlib.pyplot as plt\n",
        "import numpy as np\n",
        "\n",
        "import tensorflow as tf\n",
        "from tf_agents.networks import q_network\n",
        "from tf_agents.agents.ddpg import ddpg_agent, critic_network, actor_network\n",
        "from tf_agents.specs import tensor_spec, array_spec\n",
        "from tf_agents.environments import py_environment\n",
        "from tf_agents.environments import tf_py_environment\n",
        "from tf_agents import utils\n",
        "from tf_agents.trajectories import time_step as ts"
      ],
      "execution_count": 2,
      "outputs": []
    },
    {
      "cell_type": "code",
      "metadata": {
        "id": "fIFTvGAg776L",
        "outputId": "be39e32a-6b9e-40d0-d355-e635c0b16f88",
        "colab": {
          "base_uri": "https://localhost:8080/",
          "height": 265
        }
      },
      "source": [
        "# Number of sensing locations\n",
        "locations_num = 30\n",
        "\n",
        "# Size of the map (the map is squared)\n",
        "map_size = 100.0\n",
        "\n",
        "# Coordinates of the sensing locations\n",
        "sensing_locations = (np.random.rand(locations_num, 2) * map_size) - (map_size / 2)\n",
        "\n",
        "_ = plt.scatter(sensing_locations[:,0], sensing_locations[:,1])"
      ],
      "execution_count": 7,
      "outputs": [
        {
          "output_type": "display_data",
          "data": {
            "image/png": "[encoded data removed]",
            "text/plain": [
              "<Figure size 432x288 with 1 Axes>"
            ]
          },
          "metadata": {
            "tags": [],
            "needs_background": "light"
          }
        }
      ]
    },
    {
      "cell_type": "code",
      "metadata": {
        "id": "CjicDDkW776M"
      },
      "source": [
        "# Number of drones\n",
        "drones_num = 10\n",
        "\n",
        "# Length of a single cycle in seconds\n",
        "cycle_length = 1.0\n",
        "\n",
        "# Maximum speed of drones in points / seconds\n",
        "max_speed = 0.5\n",
        "\n",
        "# Definition of the global state\n",
        "\n",
        "# Coordinates of the drones locations\n",
        "drones_locations = np.zeros((drones_num, 2), dtype=float)\n",
        "\n",
        "# Amounts of sensing data to send per drone\n",
        "sensing_data_amounts = np.zeros(drones_num, dtype=float)\n",
        "\n",
        "# AoIs (age of information) per sensing location. Denotes the last cycle in which\n",
        "# any drone performed sensing at a specific sensing location\n",
        "aois = np.zeros(locations_num, dtype=int)\n",
        "\n",
        "# Indices of the chosen locations per drone. They are chosen in the decision cycles.\n",
        "# The initial values are not significant.\n",
        "chosen_locations = np.zeros(drones_num, dtype=int)\n",
        "\n",
        "\n",
        "# Returns the AoI of the given location\n",
        "def get_location_aoi(cycle, location_index):\n",
        "    return (cycle * cycle_length) - ((aois[location_index] // cycle_length) * cycle_length)\n",
        "\n",
        "# Returns the trajectory for the current cycle \n",
        "def get_trajectory(drone_index):\n",
        "    chosen_location_index = chosen_locations[drone_index]\n",
        "    chosen_location = sensing_locations[chosen_location_index]\n",
        "    drone_location = drones_locations[drone_index]\n",
        "    distance = np.linalg.norm(chosen_location - drone_location)\n",
        "    if distance <= max_speed * cycle_length:\n",
        "        return chosen_location - drone_location\n",
        "    else:\n",
        "        return ((chosen_location - drone_location) / distance) * max_speed * cycle_length"
      ],
      "execution_count": null,
      "outputs": []
    },
    {
      "cell_type": "code",
      "metadata": {
        "id": "r5yp0-M0776M"
      },
      "source": [
        "# Simplifying transmission step: only considering a bandwidth and a total amount of\n",
        "# data for every location. Assumption: tasks are equal, so the amount of data is the same.\n",
        "\n",
        "# Transmission bandwidth per cycle\n",
        "bandwidth = 0.5\n",
        "\n",
        "# Total amount of sensing data per location\n",
        "total_location_data = 3.0\n",
        "\n",
        "# Amount of data transmissible per cycle \n",
        "data_transmission_cycle = bandwidth * cycle_length"
      ],
      "execution_count": null,
      "outputs": []
    },
    {
      "cell_type": "code",
      "metadata": {
        "id": "WSggMB3mNqTS",
        "outputId": "6a13244f-615e-4ee1-dc20-f86d56b2cc84",
        "colab": {
          "base_uri": "https://localhost:8080/"
        }
      },
      "source": [
        ""
      ],
      "execution_count": 25,
      "outputs": [
        {
          "output_type": "execute_result",
          "data": {
            "text/plain": [
              "ArraySpec(shape=(1,), dtype=dtype('int32'), name='action')"
            ]
          },
          "metadata": {
            "tags": []
          },
          "execution_count": 25
        }
      ]
    },
    {
      "cell_type": "code",
      "metadata": {
        "id": "x5X_eV09776N"
      },
      "source": [
        "'''\n",
        "Using Deep Q Learning. Having current drone location (x,y), \n",
        "potential sensing location (x',y') (could also directly consider distance\n",
        "between the two locations) and AoI of the sensing location\n",
        "as features, the network should output a Q value. The higher\n",
        "the value the better this sensing location choice. Executing the network\n",
        "at the decision cycle for every sensing location and choosing the one\n",
        "that outputs the highest Q value. After each decision, the Q network\n",
        "should be updated by performing backpropagation and considering the error.\n",
        "'''\n",
        "\n",
        "class DurpEnv(py_environment.PyEnvironment):\n",
        "    def __init__(self):\n",
        "        self._action_spec = array_spec.BoundedArraySpec(\n",
        "            shape=(), dtype=np.int32, minimum=0, maximum=locations_num-1, name='action')\n",
        "        self._observation_spec = \n",
        "        {\n",
        "            \"position\": array_spec.ArraySpec(shape=(drones_num,), dtype=np.int32),\n",
        "            \"transmission_data\": array_spec.ArraySpec(shape=(drones_num,), dtype=np.int32),\n",
        "            \"AoI\": array_spec.ArraySpec(shape=(locations_num,), dtype=np.int32),\n",
        "            \"target\": array_spec.ArraySpec(shape=(locations_num,), dtype=np.int32),\n",
        "        }\n",
        "        self._state = 0 # TODO: not sure if we need this\n",
        "        self._episode_ended = False\n",
        "\n",
        "    def action_spec(self):\n",
        "        return self._action_spec\n",
        "\n",
        "    def observation_spec(self):\n",
        "        return self._observation_spec\n",
        "\n",
        "    def _reset(self):\n",
        "        self._state = 0\n",
        "        self._episode_ended = False\n",
        "        return ts.restart(np.array([self._state], dtype=np.int32))\n",
        "\n",
        "    def _step(self, action):\n",
        "\n",
        "        if self._episode_ended:\n",
        "            # The last action ended the episode. Ignore the current action and start\n",
        "            # a new episode.\n",
        "            return self.reset()\n",
        "\n",
        "        # TODO: return some pair (state, reward)\n",
        "        #if response == ActionResult.GAME_COMPLETE:\n",
        "            #return timeStep.termination(self._game.game_state(), 10)\n",
        "        #return timeStep.transition(self._game.game_state(), reward=-0.3, discount=1.0)\n",
        "\n",
        "\n",
        "learning_rate = 0.001\n",
        "\n",
        "optimizer = tf.keras.optimizers.Adam(learning_rate=learning_rate)\n",
        "\n",
        "durp_env = DurpEnv()\n",
        "\n",
        "train_env = tf_py_environment.TFPyEnvironment(durp_env)\n",
        "\n",
        "actor_net = actor_network.ActorNetwork(\n",
        "    train_env.observation_spec(), \n",
        "    train_env.action_spec(),\n",
        "    name='DurpActorNetwork'\n",
        ")\n",
        "\n",
        "critic_net = critic_network.CriticNetwork(\n",
        "    train_env.observation_spec(), \n",
        "    output_activation_fn=tf.keras.activations.sigmoid,\n",
        "    activation_fn=tf.nn.relu,\n",
        "    name='DurpCriticNetwork'\n",
        ")\n",
        "\n",
        "'''\n",
        "q_net = q_network.QNetwork(\n",
        "  train_env.observation_spec(),\n",
        "  train_env.action_spec(),\n",
        "  fc_layer_params=(100,))'''\n",
        "\n",
        "agent = ddpg_agent.DdpgAgent(\n",
        "  train_env.time_step_spec(),\n",
        "  train_env.action_spec(),\n",
        "  critic_network=critic_net,\n",
        "  actor_network=actor_net,\n",
        "  critic_optimizer=optimizer,\n",
        "  #td_errors_loss_fn=utils.common.element_wise_squared_loss,\n",
        "  train_step_counter=tf.Variable(0)\n",
        "  )\n",
        "\n",
        "agent.initialize()"
      ],
      "execution_count": 26,
      "outputs": []
    },
    {
      "cell_type": "code",
      "metadata": {
        "id": "KS0CyA4G776N"
      },
      "source": [
        "# Number of total cycles for the simulation\n",
        "cycles_num = 500\n",
        "\n",
        "# Running simulation (one cycle at a time for every drone)\n",
        "for cycle in range(1, cycles_num + 1):\n",
        "    for drone in range(drones_num):\n",
        "        # TODO: select next location in some way during decision cycle\n",
        "        aoi = get_location_aoi(cycle, chosen_locations[drone])\n",
        "        if aoi == cycle_length: # Decision cycle\n",
        "            pass\n",
        "        elif (drones_locations[drone] != chosen_locations[drone]).all(): # Empty cycle\n",
        "            trajectory = get_trajectory(drone)\n",
        "            new_location = drones_locations[drone] + trajectory\n",
        "            # Updating drone location\n",
        "            np.insert(drones_locations, drone, new_location, axis=0)\n",
        "        elif sensing_data_amounts[drone] == 0.0: # Sensing cycle\n",
        "            # Updating drone sensing data remaining amount\n",
        "            np.insert(sensing_data_amounts, drone, total_location_data, axis=0)\n",
        "        else: # Transmission cycle\n",
        "            # Updating drone sensing data remaining amount\n",
        "            np.insert(sensing_data_amounts, drone, \n",
        "                np.max(sensing_data_amounts[drone] - data_transmission_cycle, 0.0), axis=0)\n",
        "            # Updating the AoI if the transmission has been completed\n",
        "            if sensing_data_amounts[drone] == 0.0:\n",
        "                np.insert(aois, chosen_locations[drone], cycle, axis=0)\n",
        "\n"
      ],
      "execution_count": null,
      "outputs": []
    },
    {
      "cell_type": "code",
      "metadata": {
        "id": "yzSV3COa776O"
      },
      "source": [
        ""
      ],
      "execution_count": null,
      "outputs": []
    }
  ]
}