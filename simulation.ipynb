{
 "metadata": {
  "language_info": {
   "codemirror_mode": {
    "name": "ipython",
    "version": 3
   },
   "file_extension": ".py",
   "mimetype": "text/x-python",
   "name": "python",
   "nbconvert_exporter": "python",
   "pygments_lexer": "ipython3",
   "version": "3.9.1-final"
  },
  "orig_nbformat": 2,
  "kernelspec": {
   "name": "python3",
   "display_name": "Python 3.9.1 64-bit ('durp': conda)",
   "metadata": {
    "interpreter": {
     "hash": "ad3b2c1c9ba1d7362819af9951b90963271aba6bda6a6815a50c7fa2bbb724c2"
    }
   }
  }
 },
 "nbformat": 4,
 "nbformat_minor": 2,
 "cells": [
  {
   "cell_type": "code",
   "execution_count": 78,
   "metadata": {},
   "outputs": [],
   "source": [
    "%matplotlib inline\n",
    "import matplotlib.pyplot as plt\n",
    "import numpy as np"
   ]
  },
  {
   "cell_type": "code",
   "execution_count": 79,
   "metadata": {},
   "outputs": [
    {
     "output_type": "display_data",
     "data": {
      "text/plain": "<Figure size 432x288 with 1 Axes>",
      "image/svg+xml": "<?xml version=\"1.0\" encoding=\"utf-8\" standalone=\"no\"?>\n<!DOCTYPE svg PUBLIC \"-//W3C//DTD SVG 1.1//EN\"\n  \"http://www.w3.org/Graphics/SVG/1.1/DTD/svg11.dtd\">\n<!-- Created with matplotlib (https://matplotlib.org/) -->\n<svg height=\"248.518125pt\" version=\"1.1\" viewBox=\"0 0 377.304688 248.518125\" width=\"377.304688pt\" xmlns=\"http://www.w3.org/2000/svg\" xmlns:xlink=\"http://www.w3.org/1999/xlink\">\n <metadata>\n  <rdf:RDF xmlns:cc=\"http://creativecommons.org/ns#\" xmlns:dc=\"http://purl.org/dc/elements/1.1/\" xmlns:rdf=\"http://www.w3.org/1999/02/22-rdf-syntax-ns#\">\n   <cc:Work>\n    <dc:type rdf:resource=\"http://purl.org/dc/dcmitype/StillImage\"/>\n    <dc:date>2021-02-22T13:12:17.591249</dc:date>\n    <dc:format>image/svg+xml</dc:format>\n    <dc:creator>\n     <cc:Agent>\n      <dc:title>Matplotlib v3.3.4, https://matplotlib.org/</dc:title>\n     </cc:Agent>\n    </dc:creator>\n   </cc:Work>\n  </rdf:RDF>\n </metadata>\n <defs>\n  <style type=\"text/css\">*{stroke-linecap:butt;stroke-linejoin:round;}</style>\n </defs>\n <g id=\"figure_1\">\n  <g id=\"patch_1\">\n   <path d=\"M 0 248.518125 \nL 377.304688 248.518125 \nL 377.304688 0 \nL 0 0 \nz\n\" style=\"fill:none;\"/>\n  </g>\n  <g id=\"axes_1\">\n   <g id=\"patch_2\">\n    <path d=\"M 35.304688 224.64 \nL 370.104688 224.64 \nL 370.104688 7.2 \nL 35.304688 7.2 \nz\n\" style=\"fill:#ffffff;\"/>\n   </g>\n   <g id=\"PathCollection_1\">\n    <defs>\n     <path d=\"M 0 3 \nC 0.795609 3 1.55874 2.683901 2.12132 2.12132 \nC 2.683901 1.55874 3 0.795609 3 0 \nC 3 -0.795609 2.683901 -1.55874 2.12132 -2.12132 \nC 1.55874 -2.683901 0.795609 -3 0 -3 \nC -0.795609 -3 -1.55874 -2.683901 -2.12132 -2.12132 \nC -2.683901 -1.55874 -3 -0.795609 -3 0 \nC -3 0.795609 -2.683901 1.55874 -2.12132 2.12132 \nC -1.55874 2.683901 -0.795609 3 0 3 \nz\n\" id=\"mc3afc71957\" style=\"stroke:#1f77b4;\"/>\n    </defs>\n    <g clip-path=\"url(#p191889f6c1)\">\n     <use style=\"fill:#1f77b4;stroke:#1f77b4;\" x=\"102.783772\" xlink:href=\"#mc3afc71957\" y=\"29.532558\"/>\n     <use style=\"fill:#1f77b4;stroke:#1f77b4;\" x=\"346.48364\" xlink:href=\"#mc3afc71957\" y=\"105.548502\"/>\n     <use style=\"fill:#1f77b4;stroke:#1f77b4;\" x=\"332.485816\" xlink:href=\"#mc3afc71957\" y=\"35.653489\"/>\n     <use style=\"fill:#1f77b4;stroke:#1f77b4;\" x=\"88.52493\" xlink:href=\"#mc3afc71957\" y=\"98.498525\"/>\n     <use style=\"fill:#1f77b4;stroke:#1f77b4;\" x=\"239.413939\" xlink:href=\"#mc3afc71957\" y=\"130.345997\"/>\n     <use style=\"fill:#1f77b4;stroke:#1f77b4;\" x=\"100.300489\" xlink:href=\"#mc3afc71957\" y=\"71.011268\"/>\n     <use style=\"fill:#1f77b4;stroke:#1f77b4;\" x=\"299.737103\" xlink:href=\"#mc3afc71957\" y=\"56.322926\"/>\n     <use style=\"fill:#1f77b4;stroke:#1f77b4;\" x=\"207.530483\" xlink:href=\"#mc3afc71957\" y=\"30.03054\"/>\n     <use style=\"fill:#1f77b4;stroke:#1f77b4;\" x=\"171.104077\" xlink:href=\"#mc3afc71957\" y=\"74.666383\"/>\n     <use style=\"fill:#1f77b4;stroke:#1f77b4;\" x=\"136.763883\" xlink:href=\"#mc3afc71957\" y=\"30.864815\"/>\n     <use style=\"fill:#1f77b4;stroke:#1f77b4;\" x=\"268.29856\" xlink:href=\"#mc3afc71957\" y=\"192.80316\"/>\n     <use style=\"fill:#1f77b4;stroke:#1f77b4;\" x=\"135.713016\" xlink:href=\"#mc3afc71957\" y=\"190.991232\"/>\n     <use style=\"fill:#1f77b4;stroke:#1f77b4;\" x=\"98.240169\" xlink:href=\"#mc3afc71957\" y=\"125.504535\"/>\n     <use style=\"fill:#1f77b4;stroke:#1f77b4;\" x=\"247.88936\" xlink:href=\"#mc3afc71957\" y=\"206.107665\"/>\n     <use style=\"fill:#1f77b4;stroke:#1f77b4;\" x=\"255.253915\" xlink:href=\"#mc3afc71957\" y=\"58.432191\"/>\n     <use style=\"fill:#1f77b4;stroke:#1f77b4;\" x=\"69.400911\" xlink:href=\"#mc3afc71957\" y=\"86.023411\"/>\n     <use style=\"fill:#1f77b4;stroke:#1f77b4;\" x=\"282.110542\" xlink:href=\"#mc3afc71957\" y=\"106.404919\"/>\n     <use style=\"fill:#1f77b4;stroke:#1f77b4;\" x=\"344.091723\" xlink:href=\"#mc3afc71957\" y=\"114.206697\"/>\n     <use style=\"fill:#1f77b4;stroke:#1f77b4;\" x=\"71.812371\" xlink:href=\"#mc3afc71957\" y=\"188.783833\"/>\n     <use style=\"fill:#1f77b4;stroke:#1f77b4;\" x=\"243.326637\" xlink:href=\"#mc3afc71957\" y=\"25.877919\"/>\n     <use style=\"fill:#1f77b4;stroke:#1f77b4;\" x=\"170.099588\" xlink:href=\"#mc3afc71957\" y=\"144.683694\"/>\n     <use style=\"fill:#1f77b4;stroke:#1f77b4;\" x=\"354.886506\" xlink:href=\"#mc3afc71957\" y=\"172.838821\"/>\n     <use style=\"fill:#1f77b4;stroke:#1f77b4;\" x=\"156.91496\" xlink:href=\"#mc3afc71957\" y=\"126.709521\"/>\n     <use style=\"fill:#1f77b4;stroke:#1f77b4;\" x=\"203.094103\" xlink:href=\"#mc3afc71957\" y=\"17.083636\"/>\n     <use style=\"fill:#1f77b4;stroke:#1f77b4;\" x=\"50.522869\" xlink:href=\"#mc3afc71957\" y=\"159.285883\"/>\n     <use style=\"fill:#1f77b4;stroke:#1f77b4;\" x=\"343.910775\" xlink:href=\"#mc3afc71957\" y=\"88.192141\"/>\n     <use style=\"fill:#1f77b4;stroke:#1f77b4;\" x=\"268.628444\" xlink:href=\"#mc3afc71957\" y=\"176.99373\"/>\n     <use style=\"fill:#1f77b4;stroke:#1f77b4;\" x=\"164.779645\" xlink:href=\"#mc3afc71957\" y=\"174.365981\"/>\n     <use style=\"fill:#1f77b4;stroke:#1f77b4;\" x=\"84.575623\" xlink:href=\"#mc3afc71957\" y=\"77.949826\"/>\n     <use style=\"fill:#1f77b4;stroke:#1f77b4;\" x=\"208.807622\" xlink:href=\"#mc3afc71957\" y=\"214.756364\"/>\n    </g>\n   </g>\n   <g id=\"matplotlib.axis_1\">\n    <g id=\"xtick_1\">\n     <g id=\"line2d_1\">\n      <defs>\n       <path d=\"M 0 0 \nL 0 3.5 \n\" id=\"m7524fe98cd\" style=\"stroke:#000000;stroke-width:0.8;\"/>\n      </defs>\n      <g>\n       <use style=\"stroke:#000000;stroke-width:0.8;\" x=\"60.674947\" xlink:href=\"#m7524fe98cd\" y=\"224.64\"/>\n      </g>\n     </g>\n     <g id=\"text_1\">\n      <!-- −40 -->\n      <g transform=\"translate(50.122604 239.238437)scale(0.1 -0.1)\">\n       <defs>\n        <path d=\"M 10.59375 35.5 \nL 73.1875 35.5 \nL 73.1875 27.203125 \nL 10.59375 27.203125 \nz\n\" id=\"DejaVuSans-8722\"/>\n        <path d=\"M 37.796875 64.3125 \nL 12.890625 25.390625 \nL 37.796875 25.390625 \nz\nM 35.203125 72.90625 \nL 47.609375 72.90625 \nL 47.609375 25.390625 \nL 58.015625 25.390625 \nL 58.015625 17.1875 \nL 47.609375 17.1875 \nL 47.609375 0 \nL 37.796875 0 \nL 37.796875 17.1875 \nL 4.890625 17.1875 \nL 4.890625 26.703125 \nz\n\" id=\"DejaVuSans-52\"/>\n        <path d=\"M 31.78125 66.40625 \nQ 24.171875 66.40625 20.328125 58.90625 \nQ 16.5 51.421875 16.5 36.375 \nQ 16.5 21.390625 20.328125 13.890625 \nQ 24.171875 6.390625 31.78125 6.390625 \nQ 39.453125 6.390625 43.28125 13.890625 \nQ 47.125 21.390625 47.125 36.375 \nQ 47.125 51.421875 43.28125 58.90625 \nQ 39.453125 66.40625 31.78125 66.40625 \nz\nM 31.78125 74.21875 \nQ 44.046875 74.21875 50.515625 64.515625 \nQ 56.984375 54.828125 56.984375 36.375 \nQ 56.984375 17.96875 50.515625 8.265625 \nQ 44.046875 -1.421875 31.78125 -1.421875 \nQ 19.53125 -1.421875 13.0625 8.265625 \nQ 6.59375 17.96875 6.59375 36.375 \nQ 6.59375 54.828125 13.0625 64.515625 \nQ 19.53125 74.21875 31.78125 74.21875 \nz\n\" id=\"DejaVuSans-48\"/>\n       </defs>\n       <use xlink:href=\"#DejaVuSans-8722\"/>\n       <use x=\"83.789062\" xlink:href=\"#DejaVuSans-52\"/>\n       <use x=\"147.412109\" xlink:href=\"#DejaVuSans-48\"/>\n      </g>\n     </g>\n    </g>\n    <g id=\"xtick_2\">\n     <g id=\"line2d_2\">\n      <g>\n       <use style=\"stroke:#000000;stroke-width:0.8;\" x=\"126.397818\" xlink:href=\"#m7524fe98cd\" y=\"224.64\"/>\n      </g>\n     </g>\n     <g id=\"text_2\">\n      <!-- −20 -->\n      <g transform=\"translate(115.845474 239.238437)scale(0.1 -0.1)\">\n       <defs>\n        <path d=\"M 19.1875 8.296875 \nL 53.609375 8.296875 \nL 53.609375 0 \nL 7.328125 0 \nL 7.328125 8.296875 \nQ 12.9375 14.109375 22.625 23.890625 \nQ 32.328125 33.6875 34.8125 36.53125 \nQ 39.546875 41.84375 41.421875 45.53125 \nQ 43.3125 49.21875 43.3125 52.78125 \nQ 43.3125 58.59375 39.234375 62.25 \nQ 35.15625 65.921875 28.609375 65.921875 \nQ 23.96875 65.921875 18.8125 64.3125 \nQ 13.671875 62.703125 7.8125 59.421875 \nL 7.8125 69.390625 \nQ 13.765625 71.78125 18.9375 73 \nQ 24.125 74.21875 28.421875 74.21875 \nQ 39.75 74.21875 46.484375 68.546875 \nQ 53.21875 62.890625 53.21875 53.421875 \nQ 53.21875 48.921875 51.53125 44.890625 \nQ 49.859375 40.875 45.40625 35.40625 \nQ 44.1875 33.984375 37.640625 27.21875 \nQ 31.109375 20.453125 19.1875 8.296875 \nz\n\" id=\"DejaVuSans-50\"/>\n       </defs>\n       <use xlink:href=\"#DejaVuSans-8722\"/>\n       <use x=\"83.789062\" xlink:href=\"#DejaVuSans-50\"/>\n       <use x=\"147.412109\" xlink:href=\"#DejaVuSans-48\"/>\n      </g>\n     </g>\n    </g>\n    <g id=\"xtick_3\">\n     <g id=\"line2d_3\">\n      <g>\n       <use style=\"stroke:#000000;stroke-width:0.8;\" x=\"192.120688\" xlink:href=\"#m7524fe98cd\" y=\"224.64\"/>\n      </g>\n     </g>\n     <g id=\"text_3\">\n      <!-- 0 -->\n      <g transform=\"translate(188.939438 239.238437)scale(0.1 -0.1)\">\n       <use xlink:href=\"#DejaVuSans-48\"/>\n      </g>\n     </g>\n    </g>\n    <g id=\"xtick_4\">\n     <g id=\"line2d_4\">\n      <g>\n       <use style=\"stroke:#000000;stroke-width:0.8;\" x=\"257.843559\" xlink:href=\"#m7524fe98cd\" y=\"224.64\"/>\n      </g>\n     </g>\n     <g id=\"text_4\">\n      <!-- 20 -->\n      <g transform=\"translate(251.481059 239.238437)scale(0.1 -0.1)\">\n       <use xlink:href=\"#DejaVuSans-50\"/>\n       <use x=\"63.623047\" xlink:href=\"#DejaVuSans-48\"/>\n      </g>\n     </g>\n    </g>\n    <g id=\"xtick_5\">\n     <g id=\"line2d_5\">\n      <g>\n       <use style=\"stroke:#000000;stroke-width:0.8;\" x=\"323.56643\" xlink:href=\"#m7524fe98cd\" y=\"224.64\"/>\n      </g>\n     </g>\n     <g id=\"text_5\">\n      <!-- 40 -->\n      <g transform=\"translate(317.20393 239.238437)scale(0.1 -0.1)\">\n       <use xlink:href=\"#DejaVuSans-52\"/>\n       <use x=\"63.623047\" xlink:href=\"#DejaVuSans-48\"/>\n      </g>\n     </g>\n    </g>\n   </g>\n   <g id=\"matplotlib.axis_2\">\n    <g id=\"ytick_1\">\n     <g id=\"line2d_6\">\n      <defs>\n       <path d=\"M 0 0 \nL -3.5 0 \n\" id=\"m5309c8ab3a\" style=\"stroke:#000000;stroke-width:0.8;\"/>\n      </defs>\n      <g>\n       <use style=\"stroke:#000000;stroke-width:0.8;\" x=\"35.304688\" xlink:href=\"#m5309c8ab3a\" y=\"194.271793\"/>\n      </g>\n     </g>\n     <g id=\"text_6\">\n      <!-- −40 -->\n      <g transform=\"translate(7.2 198.071012)scale(0.1 -0.1)\">\n       <use xlink:href=\"#DejaVuSans-8722\"/>\n       <use x=\"83.789062\" xlink:href=\"#DejaVuSans-52\"/>\n       <use x=\"147.412109\" xlink:href=\"#DejaVuSans-48\"/>\n      </g>\n     </g>\n    </g>\n    <g id=\"ytick_2\">\n     <g id=\"line2d_7\">\n      <g>\n       <use style=\"stroke:#000000;stroke-width:0.8;\" x=\"35.304688\" xlink:href=\"#m5309c8ab3a\" y=\"152.932198\"/>\n      </g>\n     </g>\n     <g id=\"text_7\">\n      <!-- −20 -->\n      <g transform=\"translate(7.2 156.731417)scale(0.1 -0.1)\">\n       <use xlink:href=\"#DejaVuSans-8722\"/>\n       <use x=\"83.789062\" xlink:href=\"#DejaVuSans-50\"/>\n       <use x=\"147.412109\" xlink:href=\"#DejaVuSans-48\"/>\n      </g>\n     </g>\n    </g>\n    <g id=\"ytick_3\">\n     <g id=\"line2d_8\">\n      <g>\n       <use style=\"stroke:#000000;stroke-width:0.8;\" x=\"35.304688\" xlink:href=\"#m5309c8ab3a\" y=\"111.592604\"/>\n      </g>\n     </g>\n     <g id=\"text_8\">\n      <!-- 0 -->\n      <g transform=\"translate(21.942188 115.391822)scale(0.1 -0.1)\">\n       <use xlink:href=\"#DejaVuSans-48\"/>\n      </g>\n     </g>\n    </g>\n    <g id=\"ytick_4\">\n     <g id=\"line2d_9\">\n      <g>\n       <use style=\"stroke:#000000;stroke-width:0.8;\" x=\"35.304688\" xlink:href=\"#m5309c8ab3a\" y=\"70.253009\"/>\n      </g>\n     </g>\n     <g id=\"text_9\">\n      <!-- 20 -->\n      <g transform=\"translate(15.579688 74.052228)scale(0.1 -0.1)\">\n       <use xlink:href=\"#DejaVuSans-50\"/>\n       <use x=\"63.623047\" xlink:href=\"#DejaVuSans-48\"/>\n      </g>\n     </g>\n    </g>\n    <g id=\"ytick_5\">\n     <g id=\"line2d_10\">\n      <g>\n       <use style=\"stroke:#000000;stroke-width:0.8;\" x=\"35.304688\" xlink:href=\"#m5309c8ab3a\" y=\"28.913414\"/>\n      </g>\n     </g>\n     <g id=\"text_10\">\n      <!-- 40 -->\n      <g transform=\"translate(15.579688 32.712633)scale(0.1 -0.1)\">\n       <use xlink:href=\"#DejaVuSans-52\"/>\n       <use x=\"63.623047\" xlink:href=\"#DejaVuSans-48\"/>\n      </g>\n     </g>\n    </g>\n   </g>\n   <g id=\"patch_3\">\n    <path d=\"M 35.304688 224.64 \nL 35.304688 7.2 \n\" style=\"fill:none;stroke:#000000;stroke-linecap:square;stroke-linejoin:miter;stroke-width:0.8;\"/>\n   </g>\n   <g id=\"patch_4\">\n    <path d=\"M 370.104688 224.64 \nL 370.104688 7.2 \n\" style=\"fill:none;stroke:#000000;stroke-linecap:square;stroke-linejoin:miter;stroke-width:0.8;\"/>\n   </g>\n   <g id=\"patch_5\">\n    <path d=\"M 35.304688 224.64 \nL 370.104688 224.64 \n\" style=\"fill:none;stroke:#000000;stroke-linecap:square;stroke-linejoin:miter;stroke-width:0.8;\"/>\n   </g>\n   <g id=\"patch_6\">\n    <path d=\"M 35.304688 7.2 \nL 370.104688 7.2 \n\" style=\"fill:none;stroke:#000000;stroke-linecap:square;stroke-linejoin:miter;stroke-width:0.8;\"/>\n   </g>\n  </g>\n </g>\n <defs>\n  <clipPath id=\"p191889f6c1\">\n   <rect height=\"217.44\" width=\"334.8\" x=\"35.304688\" y=\"7.2\"/>\n  </clipPath>\n </defs>\n</svg>\n",
      "image/png": "[encoded data removed]"
     },
     "metadata": {
      "needs_background": "light"
     }
    }
   ],
   "source": [
    "# Number of sensing locations\n",
    "locations_num = 30\n",
    "\n",
    "# Size of the map (the map is squared)\n",
    "map_size = 100.0\n",
    "\n",
    "# Coordinates of the sensing locations\n",
    "sensing_locations = (np.random.rand(locations_num, 2) * map_size) - (map_size / 2)\n",
    "\n",
    "_ = plt.scatter(sensing_locations[:,0], sensing_locations[:,1])"
   ]
  },
  {
   "cell_type": "code",
   "execution_count": 80,
   "metadata": {},
   "outputs": [],
   "source": [
    "# Number of drones\n",
    "drones_num = 10\n",
    "\n",
    "# Length of a single cycle in seconds\n",
    "cycle_length = 1.0\n",
    "\n",
    "# Maximum speed of drones in points / seconds\n",
    "max_speed = 0.5\n",
    "\n",
    "# Definition of the global state\n",
    "\n",
    "# Coordinates of the drones locations\n",
    "drones_locations = np.zeros((drones_num, 2), dtype=float)\n",
    "\n",
    "# Amounts of sensing data to send per drone\n",
    "sensing_data_amounts = np.zeros(drones_num, dtype=float)\n",
    "\n",
    "# AoIs (age of information) per sensing location. Denotes the last cycle in which\n",
    "# any drone performed sensing at a specific sensing location\n",
    "aois = np.zeros(locations_num, dtype=int)\n",
    "\n",
    "# Indices of the chosen locations per drone. They are chosen in the decision cycles.\n",
    "# The initial values are not significant.\n",
    "chosen_locations = np.zeros(drones_num, dtype=int)\n",
    "\n",
    "\n",
    "# Returns the AoI of the given location\n",
    "def get_location_aoi(cycle, location_index):\n",
    "    return (cycle * cycle_length) - ((aois[location_index] // cycle_length) * cycle_length)\n",
    "\n",
    "# Returns the trajectory for the current cycle \n",
    "def get_trajectory(drone_index):\n",
    "    chosen_location_index = chosen_locations[drone_index]\n",
    "    chosen_location = sensing_locations[chosen_location_index]\n",
    "    drone_location = drones_locations[drone_index]\n",
    "    distance = np.linalg.norm(chosen_location - drone_location)\n",
    "    if distance <= max_speed * cycle_length:\n",
    "        return chosen_location - drone_location\n",
    "    else:\n",
    "        return ((chosen_location - drone_location) / distance) * max_speed * cycle_length"
   ]
  },
  {
   "cell_type": "code",
   "execution_count": 81,
   "metadata": {},
   "outputs": [],
   "source": [
    "# Simplifying transmission step: only considering a bandwidth and a total amount of\n",
    "# data for every location. Assumption: tasks are equal, so the amount of data is the same.\n",
    "\n",
    "# Transmission bandwidth per cycle\n",
    "bandwidth = 0.5\n",
    "\n",
    "# Total amount of sensing data per location\n",
    "total_location_data = 3.0\n",
    "\n",
    "# Amount of data transmissible per cycle \n",
    "data_transmission_cycle = bandwidth * cycle_length"
   ]
  },
  {
   "cell_type": "code",
   "execution_count": 82,
   "metadata": {},
   "outputs": [],
   "source": [
    "# Number of total cycles for the simulation\n",
    "cycles_num = 500\n",
    "\n",
    "# Running simulation (one cycle at a time for every drone)\n",
    "for cycle in range(1, cycles_num + 1):\n",
    "    for drone in range(drones_num):\n",
    "        # TODO: select next location in some way during decision cycle\n",
    "        aoi = get_location_aoi(cycle, chosen_locations[drone])\n",
    "        if aoi == cycle_length: # Decision cycle\n",
    "            pass\n",
    "        elif (drones_locations[drone] != chosen_locations[drone]).all(): # Empty cycle\n",
    "            trajectory = get_trajectory(drone)\n",
    "            new_location = drones_locations[drone] + trajectory\n",
    "            # Updating drone location\n",
    "            np.insert(drones_locations, drone, new_location, axis=0)\n",
    "        elif sensing_data_amounts[drone] == 0.0: # Sensing cycle\n",
    "            # Updating drone sensing data remaining amount\n",
    "            np.insert(sensing_data_amounts, drone, total_location_data, axis=0)\n",
    "        else: # Transmission cycle\n",
    "            # Updating drone sensing data remaining amount\n",
    "            np.insert(sensing_data_amounts, drone, \n",
    "                np.max(sensing_data_amounts[drone] - data_transmission_cycle, 0.0), axis=0)\n",
    "            # Updating the AoI if the transmission has been completed\n",
    "            if sensing_data_amounts[drone] == 0.0:\n",
    "                np.insert(aois, chosen_locations[drone], cycle, axis=0)\n",
    "\n"
   ]
  },
  {
   "cell_type": "code",
   "execution_count": null,
   "metadata": {},
   "outputs": [],
   "source": []
  }
 ]
}