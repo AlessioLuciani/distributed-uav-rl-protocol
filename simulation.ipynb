{
 "metadata": {
  "language_info": {
   "codemirror_mode": {
    "name": "ipython",
    "version": 3
   },
   "file_extension": ".py",
   "mimetype": "text/x-python",
   "name": "python",
   "nbconvert_exporter": "python",
   "pygments_lexer": "ipython3",
   "version": "3.9.1-final"
  },
  "orig_nbformat": 2,
  "kernelspec": {
   "name": "python3",
   "display_name": "Python 3.9.1 64-bit ('durp': conda)",
   "metadata": {
    "interpreter": {
     "hash": "ad3b2c1c9ba1d7362819af9951b90963271aba6bda6a6815a50c7fa2bbb724c2"
    }
   }
  }
 },
 "nbformat": 4,
 "nbformat_minor": 2,
 "cells": [
  {
   "cell_type": "code",
   "execution_count": 16,
   "metadata": {},
   "outputs": [],
   "source": [
    "%matplotlib inline\n",
    "import matplotlib.pyplot as plt\n",
    "import numpy as np"
   ]
  },
  {
   "cell_type": "code",
   "execution_count": 17,
   "metadata": {},
   "outputs": [
    {
     "output_type": "display_data",
     "data": {
      "text/plain": "<Figure size 432x288 with 1 Axes>",
      "image/svg+xml": "<?xml version=\"1.0\" encoding=\"utf-8\" standalone=\"no\"?>\n<!DOCTYPE svg PUBLIC \"-//W3C//DTD SVG 1.1//EN\"\n  \"http://www.w3.org/Graphics/SVG/1.1/DTD/svg11.dtd\">\n<!-- Created with matplotlib (https://matplotlib.org/) -->\n<svg height=\"248.518125pt\" version=\"1.1\" viewBox=\"0 0 377.304687 248.518125\" width=\"377.304687pt\" xmlns=\"http://www.w3.org/2000/svg\" xmlns:xlink=\"http://www.w3.org/1999/xlink\">\n <metadata>\n  <rdf:RDF xmlns:cc=\"http://creativecommons.org/ns#\" xmlns:dc=\"http://purl.org/dc/elements/1.1/\" xmlns:rdf=\"http://www.w3.org/1999/02/22-rdf-syntax-ns#\">\n   <cc:Work>\n    <dc:type rdf:resource=\"http://purl.org/dc/dcmitype/StillImage\"/>\n    <dc:date>2021-02-22T00:01:45.586167</dc:date>\n    <dc:format>image/svg+xml</dc:format>\n    <dc:creator>\n     <cc:Agent>\n      <dc:title>Matplotlib v3.3.4, https://matplotlib.org/</dc:title>\n     </cc:Agent>\n    </dc:creator>\n   </cc:Work>\n  </rdf:RDF>\n </metadata>\n <defs>\n  <style type=\"text/css\">*{stroke-linecap:butt;stroke-linejoin:round;}</style>\n </defs>\n <g id=\"figure_1\">\n  <g id=\"patch_1\">\n   <path d=\"M 0 248.518125 \nL 377.304687 248.518125 \nL 377.304687 0 \nL 0 0 \nz\n\" style=\"fill:none;\"/>\n  </g>\n  <g id=\"axes_1\">\n   <g id=\"patch_2\">\n    <path d=\"M 35.304688 224.64 \nL 370.104688 224.64 \nL 370.104688 7.2 \nL 35.304688 7.2 \nz\n\" style=\"fill:#ffffff;\"/>\n   </g>\n   <g id=\"PathCollection_1\">\n    <defs>\n     <path d=\"M 0 3 \nC 0.795609 3 1.55874 2.683901 2.12132 2.12132 \nC 2.683901 1.55874 3 0.795609 3 0 \nC 3 -0.795609 2.683901 -1.55874 2.12132 -2.12132 \nC 1.55874 -2.683901 0.795609 -3 0 -3 \nC -0.795609 -3 -1.55874 -2.683901 -2.12132 -2.12132 \nC -2.683901 -1.55874 -3 -0.795609 -3 0 \nC -3 0.795609 -2.683901 1.55874 -2.12132 2.12132 \nC -1.55874 2.683901 -0.795609 3 0 3 \nz\n\" id=\"ma4586031fd\" style=\"stroke:#1f77b4;\"/>\n    </defs>\n    <g clip-path=\"url(#p56ad6b0427)\">\n     <use style=\"fill:#1f77b4;stroke:#1f77b4;\" x=\"277.884129\" xlink:href=\"#ma4586031fd\" y=\"145.333865\"/>\n     <use style=\"fill:#1f77b4;stroke:#1f77b4;\" x=\"213.089006\" xlink:href=\"#ma4586031fd\" y=\"113.849223\"/>\n     <use style=\"fill:#1f77b4;stroke:#1f77b4;\" x=\"317.472199\" xlink:href=\"#ma4586031fd\" y=\"148.327324\"/>\n     <use style=\"fill:#1f77b4;stroke:#1f77b4;\" x=\"76.381444\" xlink:href=\"#ma4586031fd\" y=\"158.116036\"/>\n     <use style=\"fill:#1f77b4;stroke:#1f77b4;\" x=\"223.786974\" xlink:href=\"#ma4586031fd\" y=\"141.666523\"/>\n     <use style=\"fill:#1f77b4;stroke:#1f77b4;\" x=\"220.483454\" xlink:href=\"#ma4586031fd\" y=\"151.585523\"/>\n     <use style=\"fill:#1f77b4;stroke:#1f77b4;\" x=\"102.043603\" xlink:href=\"#ma4586031fd\" y=\"24.081377\"/>\n     <use style=\"fill:#1f77b4;stroke:#1f77b4;\" x=\"145.322873\" xlink:href=\"#ma4586031fd\" y=\"39.772804\"/>\n     <use style=\"fill:#1f77b4;stroke:#1f77b4;\" x=\"87.875141\" xlink:href=\"#ma4586031fd\" y=\"57.185958\"/>\n     <use style=\"fill:#1f77b4;stroke:#1f77b4;\" x=\"354.886506\" xlink:href=\"#ma4586031fd\" y=\"166.421854\"/>\n     <use style=\"fill:#1f77b4;stroke:#1f77b4;\" x=\"229.456326\" xlink:href=\"#ma4586031fd\" y=\"17.083636\"/>\n     <use style=\"fill:#1f77b4;stroke:#1f77b4;\" x=\"89.804084\" xlink:href=\"#ma4586031fd\" y=\"64.038822\"/>\n     <use style=\"fill:#1f77b4;stroke:#1f77b4;\" x=\"145.627846\" xlink:href=\"#ma4586031fd\" y=\"98.27564\"/>\n     <use style=\"fill:#1f77b4;stroke:#1f77b4;\" x=\"244.100538\" xlink:href=\"#ma4586031fd\" y=\"89.305428\"/>\n     <use style=\"fill:#1f77b4;stroke:#1f77b4;\" x=\"198.396371\" xlink:href=\"#ma4586031fd\" y=\"85.543451\"/>\n     <use style=\"fill:#1f77b4;stroke:#1f77b4;\" x=\"158.162929\" xlink:href=\"#ma4586031fd\" y=\"116.547592\"/>\n     <use style=\"fill:#1f77b4;stroke:#1f77b4;\" x=\"124.450584\" xlink:href=\"#ma4586031fd\" y=\"71.949053\"/>\n     <use style=\"fill:#1f77b4;stroke:#1f77b4;\" x=\"124.535827\" xlink:href=\"#ma4586031fd\" y=\"161.741172\"/>\n     <use style=\"fill:#1f77b4;stroke:#1f77b4;\" x=\"105.016317\" xlink:href=\"#ma4586031fd\" y=\"60.888323\"/>\n     <use style=\"fill:#1f77b4;stroke:#1f77b4;\" x=\"79.608997\" xlink:href=\"#ma4586031fd\" y=\"71.575277\"/>\n     <use style=\"fill:#1f77b4;stroke:#1f77b4;\" x=\"100.169069\" xlink:href=\"#ma4586031fd\" y=\"186.173092\"/>\n     <use style=\"fill:#1f77b4;stroke:#1f77b4;\" x=\"50.522869\" xlink:href=\"#ma4586031fd\" y=\"65.524849\"/>\n     <use style=\"fill:#1f77b4;stroke:#1f77b4;\" x=\"115.353421\" xlink:href=\"#ma4586031fd\" y=\"93.841443\"/>\n     <use style=\"fill:#1f77b4;stroke:#1f77b4;\" x=\"83.356541\" xlink:href=\"#ma4586031fd\" y=\"140.373749\"/>\n     <use style=\"fill:#1f77b4;stroke:#1f77b4;\" x=\"203.849392\" xlink:href=\"#ma4586031fd\" y=\"80.534216\"/>\n     <use style=\"fill:#1f77b4;stroke:#1f77b4;\" x=\"76.619979\" xlink:href=\"#ma4586031fd\" y=\"214.756364\"/>\n     <use style=\"fill:#1f77b4;stroke:#1f77b4;\" x=\"75.478918\" xlink:href=\"#ma4586031fd\" y=\"133.0338\"/>\n     <use style=\"fill:#1f77b4;stroke:#1f77b4;\" x=\"116.180705\" xlink:href=\"#ma4586031fd\" y=\"153.07904\"/>\n     <use style=\"fill:#1f77b4;stroke:#1f77b4;\" x=\"277.091345\" xlink:href=\"#ma4586031fd\" y=\"112.035074\"/>\n     <use style=\"fill:#1f77b4;stroke:#1f77b4;\" x=\"117.204577\" xlink:href=\"#ma4586031fd\" y=\"169.550897\"/>\n    </g>\n   </g>\n   <g id=\"matplotlib.axis_1\">\n    <g id=\"xtick_1\">\n     <g id=\"line2d_1\">\n      <defs>\n       <path d=\"M 0 0 \nL 0 3.5 \n\" id=\"me22b26c2a4\" style=\"stroke:#000000;stroke-width:0.8;\"/>\n      </defs>\n      <g>\n       <use style=\"stroke:#000000;stroke-width:0.8;\" x=\"81.730099\" xlink:href=\"#me22b26c2a4\" y=\"224.64\"/>\n      </g>\n     </g>\n     <g id=\"text_1\">\n      <!-- −40 -->\n      <g transform=\"translate(71.177756 239.238437)scale(0.1 -0.1)\">\n       <defs>\n        <path d=\"M 10.59375 35.5 \nL 73.1875 35.5 \nL 73.1875 27.203125 \nL 10.59375 27.203125 \nz\n\" id=\"DejaVuSans-8722\"/>\n        <path d=\"M 37.796875 64.3125 \nL 12.890625 25.390625 \nL 37.796875 25.390625 \nz\nM 35.203125 72.90625 \nL 47.609375 72.90625 \nL 47.609375 25.390625 \nL 58.015625 25.390625 \nL 58.015625 17.1875 \nL 47.609375 17.1875 \nL 47.609375 0 \nL 37.796875 0 \nL 37.796875 17.1875 \nL 4.890625 17.1875 \nL 4.890625 26.703125 \nz\n\" id=\"DejaVuSans-52\"/>\n        <path d=\"M 31.78125 66.40625 \nQ 24.171875 66.40625 20.328125 58.90625 \nQ 16.5 51.421875 16.5 36.375 \nQ 16.5 21.390625 20.328125 13.890625 \nQ 24.171875 6.390625 31.78125 6.390625 \nQ 39.453125 6.390625 43.28125 13.890625 \nQ 47.125 21.390625 47.125 36.375 \nQ 47.125 51.421875 43.28125 58.90625 \nQ 39.453125 66.40625 31.78125 66.40625 \nz\nM 31.78125 74.21875 \nQ 44.046875 74.21875 50.515625 64.515625 \nQ 56.984375 54.828125 56.984375 36.375 \nQ 56.984375 17.96875 50.515625 8.265625 \nQ 44.046875 -1.421875 31.78125 -1.421875 \nQ 19.53125 -1.421875 13.0625 8.265625 \nQ 6.59375 17.96875 6.59375 36.375 \nQ 6.59375 54.828125 13.0625 64.515625 \nQ 19.53125 74.21875 31.78125 74.21875 \nz\n\" id=\"DejaVuSans-48\"/>\n       </defs>\n       <use xlink:href=\"#DejaVuSans-8722\"/>\n       <use x=\"83.789062\" xlink:href=\"#DejaVuSans-52\"/>\n       <use x=\"147.412109\" xlink:href=\"#DejaVuSans-48\"/>\n      </g>\n     </g>\n    </g>\n    <g id=\"xtick_2\">\n     <g id=\"line2d_2\">\n      <g>\n       <use style=\"stroke:#000000;stroke-width:0.8;\" x=\"145.766585\" xlink:href=\"#me22b26c2a4\" y=\"224.64\"/>\n      </g>\n     </g>\n     <g id=\"text_2\">\n      <!-- −20 -->\n      <g transform=\"translate(135.214242 239.238437)scale(0.1 -0.1)\">\n       <defs>\n        <path d=\"M 19.1875 8.296875 \nL 53.609375 8.296875 \nL 53.609375 0 \nL 7.328125 0 \nL 7.328125 8.296875 \nQ 12.9375 14.109375 22.625 23.890625 \nQ 32.328125 33.6875 34.8125 36.53125 \nQ 39.546875 41.84375 41.421875 45.53125 \nQ 43.3125 49.21875 43.3125 52.78125 \nQ 43.3125 58.59375 39.234375 62.25 \nQ 35.15625 65.921875 28.609375 65.921875 \nQ 23.96875 65.921875 18.8125 64.3125 \nQ 13.671875 62.703125 7.8125 59.421875 \nL 7.8125 69.390625 \nQ 13.765625 71.78125 18.9375 73 \nQ 24.125 74.21875 28.421875 74.21875 \nQ 39.75 74.21875 46.484375 68.546875 \nQ 53.21875 62.890625 53.21875 53.421875 \nQ 53.21875 48.921875 51.53125 44.890625 \nQ 49.859375 40.875 45.40625 35.40625 \nQ 44.1875 33.984375 37.640625 27.21875 \nQ 31.109375 20.453125 19.1875 8.296875 \nz\n\" id=\"DejaVuSans-50\"/>\n       </defs>\n       <use xlink:href=\"#DejaVuSans-8722\"/>\n       <use x=\"83.789062\" xlink:href=\"#DejaVuSans-50\"/>\n       <use x=\"147.412109\" xlink:href=\"#DejaVuSans-48\"/>\n      </g>\n     </g>\n    </g>\n    <g id=\"xtick_3\">\n     <g id=\"line2d_3\">\n      <g>\n       <use style=\"stroke:#000000;stroke-width:0.8;\" x=\"209.803071\" xlink:href=\"#me22b26c2a4\" y=\"224.64\"/>\n      </g>\n     </g>\n     <g id=\"text_3\">\n      <!-- 0 -->\n      <g transform=\"translate(206.621821 239.238437)scale(0.1 -0.1)\">\n       <use xlink:href=\"#DejaVuSans-48\"/>\n      </g>\n     </g>\n    </g>\n    <g id=\"xtick_4\">\n     <g id=\"line2d_4\">\n      <g>\n       <use style=\"stroke:#000000;stroke-width:0.8;\" x=\"273.839557\" xlink:href=\"#me22b26c2a4\" y=\"224.64\"/>\n      </g>\n     </g>\n     <g id=\"text_4\">\n      <!-- 20 -->\n      <g transform=\"translate(267.477057 239.238437)scale(0.1 -0.1)\">\n       <use xlink:href=\"#DejaVuSans-50\"/>\n       <use x=\"63.623047\" xlink:href=\"#DejaVuSans-48\"/>\n      </g>\n     </g>\n    </g>\n    <g id=\"xtick_5\">\n     <g id=\"line2d_5\">\n      <g>\n       <use style=\"stroke:#000000;stroke-width:0.8;\" x=\"337.876043\" xlink:href=\"#me22b26c2a4\" y=\"224.64\"/>\n      </g>\n     </g>\n     <g id=\"text_5\">\n      <!-- 40 -->\n      <g transform=\"translate(331.513543 239.238437)scale(0.1 -0.1)\">\n       <use xlink:href=\"#DejaVuSans-52\"/>\n       <use x=\"63.623047\" xlink:href=\"#DejaVuSans-48\"/>\n      </g>\n     </g>\n    </g>\n   </g>\n   <g id=\"matplotlib.axis_2\">\n    <g id=\"ytick_1\">\n     <g id=\"line2d_6\">\n      <defs>\n       <path d=\"M 0 0 \nL -3.5 0 \n\" id=\"mc5459732c8\" style=\"stroke:#000000;stroke-width:0.8;\"/>\n      </defs>\n      <g>\n       <use style=\"stroke:#000000;stroke-width:0.8;\" x=\"35.304688\" xlink:href=\"#mc5459732c8\" y=\"203.159461\"/>\n      </g>\n     </g>\n     <g id=\"text_6\">\n      <!-- −40 -->\n      <g transform=\"translate(7.2 206.95868)scale(0.1 -0.1)\">\n       <use xlink:href=\"#DejaVuSans-8722\"/>\n       <use x=\"83.789062\" xlink:href=\"#DejaVuSans-52\"/>\n       <use x=\"147.412109\" xlink:href=\"#DejaVuSans-48\"/>\n      </g>\n     </g>\n    </g>\n    <g id=\"ytick_2\">\n     <g id=\"line2d_7\">\n      <g>\n       <use style=\"stroke:#000000;stroke-width:0.8;\" x=\"35.304688\" xlink:href=\"#mc5459732c8\" y=\"160.971525\"/>\n      </g>\n     </g>\n     <g id=\"text_7\">\n      <!-- −20 -->\n      <g transform=\"translate(7.2 164.770744)scale(0.1 -0.1)\">\n       <use xlink:href=\"#DejaVuSans-8722\"/>\n       <use x=\"83.789062\" xlink:href=\"#DejaVuSans-50\"/>\n       <use x=\"147.412109\" xlink:href=\"#DejaVuSans-48\"/>\n      </g>\n     </g>\n    </g>\n    <g id=\"ytick_3\">\n     <g id=\"line2d_8\">\n      <g>\n       <use style=\"stroke:#000000;stroke-width:0.8;\" x=\"35.304688\" xlink:href=\"#mc5459732c8\" y=\"118.783589\"/>\n      </g>\n     </g>\n     <g id=\"text_8\">\n      <!-- 0 -->\n      <g transform=\"translate(21.942188 122.582808)scale(0.1 -0.1)\">\n       <use xlink:href=\"#DejaVuSans-48\"/>\n      </g>\n     </g>\n    </g>\n    <g id=\"ytick_4\">\n     <g id=\"line2d_9\">\n      <g>\n       <use style=\"stroke:#000000;stroke-width:0.8;\" x=\"35.304688\" xlink:href=\"#mc5459732c8\" y=\"76.595653\"/>\n      </g>\n     </g>\n     <g id=\"text_9\">\n      <!-- 20 -->\n      <g transform=\"translate(15.579688 80.394871)scale(0.1 -0.1)\">\n       <use xlink:href=\"#DejaVuSans-50\"/>\n       <use x=\"63.623047\" xlink:href=\"#DejaVuSans-48\"/>\n      </g>\n     </g>\n    </g>\n    <g id=\"ytick_5\">\n     <g id=\"line2d_10\">\n      <g>\n       <use style=\"stroke:#000000;stroke-width:0.8;\" x=\"35.304688\" xlink:href=\"#mc5459732c8\" y=\"34.407716\"/>\n      </g>\n     </g>\n     <g id=\"text_10\">\n      <!-- 40 -->\n      <g transform=\"translate(15.579688 38.206935)scale(0.1 -0.1)\">\n       <use xlink:href=\"#DejaVuSans-52\"/>\n       <use x=\"63.623047\" xlink:href=\"#DejaVuSans-48\"/>\n      </g>\n     </g>\n    </g>\n   </g>\n   <g id=\"patch_3\">\n    <path d=\"M 35.304688 224.64 \nL 35.304688 7.2 \n\" style=\"fill:none;stroke:#000000;stroke-linecap:square;stroke-linejoin:miter;stroke-width:0.8;\"/>\n   </g>\n   <g id=\"patch_4\">\n    <path d=\"M 370.104688 224.64 \nL 370.104688 7.2 \n\" style=\"fill:none;stroke:#000000;stroke-linecap:square;stroke-linejoin:miter;stroke-width:0.8;\"/>\n   </g>\n   <g id=\"patch_5\">\n    <path d=\"M 35.304688 224.64 \nL 370.104687 224.64 \n\" style=\"fill:none;stroke:#000000;stroke-linecap:square;stroke-linejoin:miter;stroke-width:0.8;\"/>\n   </g>\n   <g id=\"patch_6\">\n    <path d=\"M 35.304688 7.2 \nL 370.104687 7.2 \n\" style=\"fill:none;stroke:#000000;stroke-linecap:square;stroke-linejoin:miter;stroke-width:0.8;\"/>\n   </g>\n  </g>\n </g>\n <defs>\n  <clipPath id=\"p56ad6b0427\">\n   <rect height=\"217.44\" width=\"334.8\" x=\"35.304688\" y=\"7.2\"/>\n  </clipPath>\n </defs>\n</svg>\n",
      "image/png": "[encoded data removed]"
     },
     "metadata": {
      "needs_background": "light"
     }
    }
   ],
   "source": [
    "# Number of sensing locations\n",
    "locations_num = 30\n",
    "\n",
    "# Size of the map (the map is squared)\n",
    "map_size = 100.0\n",
    "\n",
    "# Coordinates of the sensing locations\n",
    "sensing_locations = (np.random.rand(locations_num, 2) * map_size) - (map_size / 2)\n",
    "\n",
    "_ = plt.scatter(sensing_locations[:,0], sensing_locations[:,1])"
   ]
  },
  {
   "cell_type": "code",
   "execution_count": 18,
   "metadata": {},
   "outputs": [],
   "source": [
    "# Number of drones\n",
    "drones_num = 10\n",
    "\n",
    "# Definition of the global state\n",
    "\n",
    "# Coordinates of the drones locations\n",
    "drones_locations = np.zeros((drones_num, 2), dtype=float)\n",
    "\n",
    "# Amounts of sensing data to send per drone\n",
    "sensing_data_amounts = np.zeros((drones_num, 2), dtype=float)\n",
    "\n",
    "# AoIs (age of information) per sensing location. Denotes the last cycle in which\n",
    "# any drone performed sensing at a specific sensing location\n",
    "aois = np.zeros(locations_num, dtype=int)\n",
    "\n",
    "# Indices of the chosen locations per drone. They are chosen in the decision cycles.\n",
    "# The initial values are not significant.\n",
    "chosen_locations = np.zeros(drones_num, dtype=int)"
   ]
  },
  {
   "cell_type": "code",
   "execution_count": 19,
   "metadata": {},
   "outputs": [],
   "source": [
    "# Number of total cycles for the simulation\n",
    "cycles_num = 500\n",
    "\n",
    "# Running simulation (one cycle at a time for every drone)\n",
    "for cycle in range(1, cycles_num + 1):\n",
    "    for drone in range(drones_num):\n",
    "        pass\n"
   ]
  },
  {
   "cell_type": "code",
   "execution_count": null,
   "metadata": {},
   "outputs": [],
   "source": []
  }
 ]
}