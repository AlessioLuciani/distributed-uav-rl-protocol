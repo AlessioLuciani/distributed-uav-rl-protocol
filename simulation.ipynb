{
  "nbformat": 4,
  "nbformat_minor": 0,
  "metadata": {
    "language_info": {
      "codemirror_mode": {
        "name": "ipython",
        "version": 3
      },
      "file_extension": ".py",
      "mimetype": "text/x-python",
      "name": "python",
      "nbconvert_exporter": "python",
      "pygments_lexer": "ipython3",
      "version": "3.9.1-final"
    },
    "orig_nbformat": 2,
    "kernelspec": {
      "name": "python3",
      "display_name": "Python 3.9.1 64-bit ('durp': conda)",
      "metadata": {
        "interpreter": {
          "hash": "ad3b2c1c9ba1d7362819af9951b90963271aba6bda6a6815a50c7fa2bbb724c2"
        }
      }
    },
    "colab": {
      "name": "simulation.ipynb",
      "provenance": []
    }
  },
  "cells": [
    {
      "cell_type": "code",
      "metadata": {
        "id": "DsqsLLlabJnZ"
      },
      "source": [
        "try:\n",
        "  # Install colab required dependencies\n",
        "  import google.colab\n",
        "  !pip install -q tf-agents\n",
        "except:\n",
        "  pass"
      ],
      "execution_count": 1,
      "outputs": []
    },
    {
      "cell_type": "code",
      "metadata": {
        "id": "sA1ej8o2776K"
      },
      "source": [
        "%matplotlib inline\n",
        "import matplotlib.pyplot as plt\n",
        "import numpy as np\n",
        "\n",
        "import tensorflow as tf\n",
        "from tf_agents.networks import q_network\n",
        "from tf_agents.agents.ddpg import ddpg_agent, critic_network, actor_network\n",
        "from tf_agents.specs import tensor_spec, array_spec\n",
        "from tf_agents.environments import py_environment\n",
        "from tf_agents.environments import tf_py_environment\n",
        "from tf_agents import utils\n",
        "from tf_agents.trajectories import time_step as ts"
      ],
      "execution_count": 2,
      "outputs": []
    },
    {
      "cell_type": "code",
      "metadata": {
        "colab": {
          "base_uri": "https://localhost:8080/",
          "height": 265
        },
        "id": "fIFTvGAg776L",
        "outputId": "be39e32a-6b9e-40d0-d355-e635c0b16f88"
      },
      "source": [
        "# Number of sensing locations\n",
        "locations_num = 30\n",
        "\n",
        "# Size of the map (the map is squared)\n",
        "map_size = 100.0\n",
        "\n",
        "# Coordinates of the sensing locations\n",
        "sensing_locations = (np.random.rand(locations_num, 2) * map_size) - (map_size / 2)\n",
        "\n",
        "_ = plt.scatter(sensing_locations[:,0], sensing_locations[:,1])"
      ],
      "execution_count": 3,
      "outputs": [
        {
          "output_type": "display_data",
          "data": {
            "text/plain": "<Figure size 432x288 with 1 Axes>",
            "image/svg+xml": "<?xml version=\"1.0\" encoding=\"utf-8\" standalone=\"no\"?>\n<!DOCTYPE svg PUBLIC \"-//W3C//DTD SVG 1.1//EN\"\n  \"http://www.w3.org/Graphics/SVG/1.1/DTD/svg11.dtd\">\n<!-- Created with matplotlib (https://matplotlib.org/) -->\n<svg height=\"248.518125pt\" version=\"1.1\" viewBox=\"0 0 377.304687 248.518125\" width=\"377.304687pt\" xmlns=\"http://www.w3.org/2000/svg\" xmlns:xlink=\"http://www.w3.org/1999/xlink\">\n <metadata>\n  <rdf:RDF xmlns:cc=\"http://creativecommons.org/ns#\" xmlns:dc=\"http://purl.org/dc/elements/1.1/\" xmlns:rdf=\"http://www.w3.org/1999/02/22-rdf-syntax-ns#\">\n   <cc:Work>\n    <dc:type rdf:resource=\"http://purl.org/dc/dcmitype/StillImage\"/>\n    <dc:date>2021-02-25T13:13:06.896161</dc:date>\n    <dc:format>image/svg+xml</dc:format>\n    <dc:creator>\n     <cc:Agent>\n      <dc:title>Matplotlib v3.3.4, https://matplotlib.org/</dc:title>\n     </cc:Agent>\n    </dc:creator>\n   </cc:Work>\n  </rdf:RDF>\n </metadata>\n <defs>\n  <style type=\"text/css\">*{stroke-linecap:butt;stroke-linejoin:round;}</style>\n </defs>\n <g id=\"figure_1\">\n  <g id=\"patch_1\">\n   <path d=\"M 0 248.518125 \nL 377.304687 248.518125 \nL 377.304687 0 \nL 0 0 \nz\n\" style=\"fill:none;\"/>\n  </g>\n  <g id=\"axes_1\">\n   <g id=\"patch_2\">\n    <path d=\"M 35.304688 224.64 \nL 370.104688 224.64 \nL 370.104688 7.2 \nL 35.304688 7.2 \nz\n\" style=\"fill:#ffffff;\"/>\n   </g>\n   <g id=\"PathCollection_1\">\n    <defs>\n     <path d=\"M 0 3 \nC 0.795609 3 1.55874 2.683901 2.12132 2.12132 \nC 2.683901 1.55874 3 0.795609 3 0 \nC 3 -0.795609 2.683901 -1.55874 2.12132 -2.12132 \nC 1.55874 -2.683901 0.795609 -3 0 -3 \nC -0.795609 -3 -1.55874 -2.683901 -2.12132 -2.12132 \nC -2.683901 -1.55874 -3 -0.795609 -3 0 \nC -3 0.795609 -2.683901 1.55874 -2.12132 2.12132 \nC -1.55874 2.683901 -0.795609 3 0 3 \nz\n\" id=\"mb4e5cdf5b0\" style=\"stroke:#1f77b4;\"/>\n    </defs>\n    <g clip-path=\"url(#p8168d66a92)\">\n     <use style=\"fill:#1f77b4;stroke:#1f77b4;\" x=\"160.218976\" xlink:href=\"#mb4e5cdf5b0\" y=\"22.033413\"/>\n     <use style=\"fill:#1f77b4;stroke:#1f77b4;\" x=\"326.916027\" xlink:href=\"#mb4e5cdf5b0\" y=\"29.571524\"/>\n     <use style=\"fill:#1f77b4;stroke:#1f77b4;\" x=\"90.352321\" xlink:href=\"#mb4e5cdf5b0\" y=\"124.821625\"/>\n     <use style=\"fill:#1f77b4;stroke:#1f77b4;\" x=\"177.89978\" xlink:href=\"#mb4e5cdf5b0\" y=\"61.789254\"/>\n     <use style=\"fill:#1f77b4;stroke:#1f77b4;\" x=\"239.816913\" xlink:href=\"#mb4e5cdf5b0\" y=\"17.083636\"/>\n     <use style=\"fill:#1f77b4;stroke:#1f77b4;\" x=\"94.189718\" xlink:href=\"#mb4e5cdf5b0\" y=\"214.756364\"/>\n     <use style=\"fill:#1f77b4;stroke:#1f77b4;\" x=\"304.581447\" xlink:href=\"#mb4e5cdf5b0\" y=\"58.226447\"/>\n     <use style=\"fill:#1f77b4;stroke:#1f77b4;\" x=\"50.522869\" xlink:href=\"#mb4e5cdf5b0\" y=\"137.065106\"/>\n     <use style=\"fill:#1f77b4;stroke:#1f77b4;\" x=\"316.342925\" xlink:href=\"#mb4e5cdf5b0\" y=\"29.951879\"/>\n     <use style=\"fill:#1f77b4;stroke:#1f77b4;\" x=\"59.864129\" xlink:href=\"#mb4e5cdf5b0\" y=\"171.220377\"/>\n     <use style=\"fill:#1f77b4;stroke:#1f77b4;\" x=\"150.425383\" xlink:href=\"#mb4e5cdf5b0\" y=\"193.627601\"/>\n     <use style=\"fill:#1f77b4;stroke:#1f77b4;\" x=\"271.6554\" xlink:href=\"#mb4e5cdf5b0\" y=\"25.368118\"/>\n     <use style=\"fill:#1f77b4;stroke:#1f77b4;\" x=\"147.75669\" xlink:href=\"#mb4e5cdf5b0\" y=\"184.663998\"/>\n     <use style=\"fill:#1f77b4;stroke:#1f77b4;\" x=\"114.61378\" xlink:href=\"#mb4e5cdf5b0\" y=\"48.914235\"/>\n     <use style=\"fill:#1f77b4;stroke:#1f77b4;\" x=\"354.886506\" xlink:href=\"#mb4e5cdf5b0\" y=\"54.963795\"/>\n     <use style=\"fill:#1f77b4;stroke:#1f77b4;\" x=\"280.714226\" xlink:href=\"#mb4e5cdf5b0\" y=\"38.006488\"/>\n     <use style=\"fill:#1f77b4;stroke:#1f77b4;\" x=\"251.76321\" xlink:href=\"#mb4e5cdf5b0\" y=\"171.991723\"/>\n     <use style=\"fill:#1f77b4;stroke:#1f77b4;\" x=\"275.716855\" xlink:href=\"#mb4e5cdf5b0\" y=\"71.611968\"/>\n     <use style=\"fill:#1f77b4;stroke:#1f77b4;\" x=\"146.975242\" xlink:href=\"#mb4e5cdf5b0\" y=\"41.955049\"/>\n     <use style=\"fill:#1f77b4;stroke:#1f77b4;\" x=\"152.968904\" xlink:href=\"#mb4e5cdf5b0\" y=\"175.282194\"/>\n     <use style=\"fill:#1f77b4;stroke:#1f77b4;\" x=\"120.229259\" xlink:href=\"#mb4e5cdf5b0\" y=\"187.147552\"/>\n     <use style=\"fill:#1f77b4;stroke:#1f77b4;\" x=\"183.151238\" xlink:href=\"#mb4e5cdf5b0\" y=\"102.722227\"/>\n     <use style=\"fill:#1f77b4;stroke:#1f77b4;\" x=\"186.132004\" xlink:href=\"#mb4e5cdf5b0\" y=\"71.399744\"/>\n     <use style=\"fill:#1f77b4;stroke:#1f77b4;\" x=\"283.308312\" xlink:href=\"#mb4e5cdf5b0\" y=\"48.958328\"/>\n     <use style=\"fill:#1f77b4;stroke:#1f77b4;\" x=\"57.493148\" xlink:href=\"#mb4e5cdf5b0\" y=\"59.115623\"/>\n     <use style=\"fill:#1f77b4;stroke:#1f77b4;\" x=\"264.082661\" xlink:href=\"#mb4e5cdf5b0\" y=\"110.014775\"/>\n     <use style=\"fill:#1f77b4;stroke:#1f77b4;\" x=\"138.005321\" xlink:href=\"#mb4e5cdf5b0\" y=\"208.11601\"/>\n     <use style=\"fill:#1f77b4;stroke:#1f77b4;\" x=\"138.752071\" xlink:href=\"#mb4e5cdf5b0\" y=\"57.593669\"/>\n     <use style=\"fill:#1f77b4;stroke:#1f77b4;\" x=\"210.484261\" xlink:href=\"#mb4e5cdf5b0\" y=\"208.631353\"/>\n     <use style=\"fill:#1f77b4;stroke:#1f77b4;\" x=\"342.233905\" xlink:href=\"#mb4e5cdf5b0\" y=\"121.369226\"/>\n    </g>\n   </g>\n   <g id=\"matplotlib.axis_1\">\n    <g id=\"xtick_1\">\n     <g id=\"line2d_1\">\n      <defs>\n       <path d=\"M 0 0 \nL 0 3.5 \n\" id=\"m79739c0d9f\" style=\"stroke:#000000;stroke-width:0.8;\"/>\n      </defs>\n      <g>\n       <use style=\"stroke:#000000;stroke-width:0.8;\" x=\"80.353309\" xlink:href=\"#m79739c0d9f\" y=\"224.64\"/>\n      </g>\n     </g>\n     <g id=\"text_1\">\n      <!-- −40 -->\n      <g transform=\"translate(69.800965 239.238437)scale(0.1 -0.1)\">\n       <defs>\n        <path d=\"M 10.59375 35.5 \nL 73.1875 35.5 \nL 73.1875 27.203125 \nL 10.59375 27.203125 \nz\n\" id=\"DejaVuSans-8722\"/>\n        <path d=\"M 37.796875 64.3125 \nL 12.890625 25.390625 \nL 37.796875 25.390625 \nz\nM 35.203125 72.90625 \nL 47.609375 72.90625 \nL 47.609375 25.390625 \nL 58.015625 25.390625 \nL 58.015625 17.1875 \nL 47.609375 17.1875 \nL 47.609375 0 \nL 37.796875 0 \nL 37.796875 17.1875 \nL 4.890625 17.1875 \nL 4.890625 26.703125 \nz\n\" id=\"DejaVuSans-52\"/>\n        <path d=\"M 31.78125 66.40625 \nQ 24.171875 66.40625 20.328125 58.90625 \nQ 16.5 51.421875 16.5 36.375 \nQ 16.5 21.390625 20.328125 13.890625 \nQ 24.171875 6.390625 31.78125 6.390625 \nQ 39.453125 6.390625 43.28125 13.890625 \nQ 47.125 21.390625 47.125 36.375 \nQ 47.125 51.421875 43.28125 58.90625 \nQ 39.453125 66.40625 31.78125 66.40625 \nz\nM 31.78125 74.21875 \nQ 44.046875 74.21875 50.515625 64.515625 \nQ 56.984375 54.828125 56.984375 36.375 \nQ 56.984375 17.96875 50.515625 8.265625 \nQ 44.046875 -1.421875 31.78125 -1.421875 \nQ 19.53125 -1.421875 13.0625 8.265625 \nQ 6.59375 17.96875 6.59375 36.375 \nQ 6.59375 54.828125 13.0625 64.515625 \nQ 19.53125 74.21875 31.78125 74.21875 \nz\n\" id=\"DejaVuSans-48\"/>\n       </defs>\n       <use xlink:href=\"#DejaVuSans-8722\"/>\n       <use x=\"83.789062\" xlink:href=\"#DejaVuSans-52\"/>\n       <use x=\"147.412109\" xlink:href=\"#DejaVuSans-48\"/>\n      </g>\n     </g>\n    </g>\n    <g id=\"xtick_2\">\n     <g id=\"line2d_2\">\n      <g>\n       <use style=\"stroke:#000000;stroke-width:0.8;\" x=\"142.484346\" xlink:href=\"#m79739c0d9f\" y=\"224.64\"/>\n      </g>\n     </g>\n     <g id=\"text_2\">\n      <!-- −20 -->\n      <g transform=\"translate(131.932002 239.238437)scale(0.1 -0.1)\">\n       <defs>\n        <path d=\"M 19.1875 8.296875 \nL 53.609375 8.296875 \nL 53.609375 0 \nL 7.328125 0 \nL 7.328125 8.296875 \nQ 12.9375 14.109375 22.625 23.890625 \nQ 32.328125 33.6875 34.8125 36.53125 \nQ 39.546875 41.84375 41.421875 45.53125 \nQ 43.3125 49.21875 43.3125 52.78125 \nQ 43.3125 58.59375 39.234375 62.25 \nQ 35.15625 65.921875 28.609375 65.921875 \nQ 23.96875 65.921875 18.8125 64.3125 \nQ 13.671875 62.703125 7.8125 59.421875 \nL 7.8125 69.390625 \nQ 13.765625 71.78125 18.9375 73 \nQ 24.125 74.21875 28.421875 74.21875 \nQ 39.75 74.21875 46.484375 68.546875 \nQ 53.21875 62.890625 53.21875 53.421875 \nQ 53.21875 48.921875 51.53125 44.890625 \nQ 49.859375 40.875 45.40625 35.40625 \nQ 44.1875 33.984375 37.640625 27.21875 \nQ 31.109375 20.453125 19.1875 8.296875 \nz\n\" id=\"DejaVuSans-50\"/>\n       </defs>\n       <use xlink:href=\"#DejaVuSans-8722\"/>\n       <use x=\"83.789062\" xlink:href=\"#DejaVuSans-50\"/>\n       <use x=\"147.412109\" xlink:href=\"#DejaVuSans-48\"/>\n      </g>\n     </g>\n    </g>\n    <g id=\"xtick_3\">\n     <g id=\"line2d_3\">\n      <g>\n       <use style=\"stroke:#000000;stroke-width:0.8;\" x=\"204.615383\" xlink:href=\"#m79739c0d9f\" y=\"224.64\"/>\n      </g>\n     </g>\n     <g id=\"text_3\">\n      <!-- 0 -->\n      <g transform=\"translate(201.434133 239.238437)scale(0.1 -0.1)\">\n       <use xlink:href=\"#DejaVuSans-48\"/>\n      </g>\n     </g>\n    </g>\n    <g id=\"xtick_4\">\n     <g id=\"line2d_4\">\n      <g>\n       <use style=\"stroke:#000000;stroke-width:0.8;\" x=\"266.74642\" xlink:href=\"#m79739c0d9f\" y=\"224.64\"/>\n      </g>\n     </g>\n     <g id=\"text_4\">\n      <!-- 20 -->\n      <g transform=\"translate(260.38392 239.238437)scale(0.1 -0.1)\">\n       <use xlink:href=\"#DejaVuSans-50\"/>\n       <use x=\"63.623047\" xlink:href=\"#DejaVuSans-48\"/>\n      </g>\n     </g>\n    </g>\n    <g id=\"xtick_5\">\n     <g id=\"line2d_5\">\n      <g>\n       <use style=\"stroke:#000000;stroke-width:0.8;\" x=\"328.877457\" xlink:href=\"#m79739c0d9f\" y=\"224.64\"/>\n      </g>\n     </g>\n     <g id=\"text_5\">\n      <!-- 40 -->\n      <g transform=\"translate(322.514957 239.238437)scale(0.1 -0.1)\">\n       <use xlink:href=\"#DejaVuSans-52\"/>\n       <use x=\"63.623047\" xlink:href=\"#DejaVuSans-48\"/>\n      </g>\n     </g>\n    </g>\n   </g>\n   <g id=\"matplotlib.axis_2\">\n    <g id=\"ytick_1\">\n     <g id=\"line2d_6\">\n      <defs>\n       <path d=\"M 0 0 \nL -3.5 0 \n\" id=\"mecf9f297d5\" style=\"stroke:#000000;stroke-width:0.8;\"/>\n      </defs>\n      <g>\n       <use style=\"stroke:#000000;stroke-width:0.8;\" x=\"35.304688\" xlink:href=\"#mecf9f297d5\" y=\"194.87978\"/>\n      </g>\n     </g>\n     <g id=\"text_6\">\n      <!-- −40 -->\n      <g transform=\"translate(7.2 198.678999)scale(0.1 -0.1)\">\n       <use xlink:href=\"#DejaVuSans-8722\"/>\n       <use x=\"83.789062\" xlink:href=\"#DejaVuSans-52\"/>\n       <use x=\"147.412109\" xlink:href=\"#DejaVuSans-48\"/>\n      </g>\n     </g>\n    </g>\n    <g id=\"ytick_2\">\n     <g id=\"line2d_7\">\n      <g>\n       <use style=\"stroke:#000000;stroke-width:0.8;\" x=\"35.304688\" xlink:href=\"#mecf9f297d5\" y=\"155.01943\"/>\n      </g>\n     </g>\n     <g id=\"text_7\">\n      <!-- −20 -->\n      <g transform=\"translate(7.2 158.818649)scale(0.1 -0.1)\">\n       <use xlink:href=\"#DejaVuSans-8722\"/>\n       <use x=\"83.789062\" xlink:href=\"#DejaVuSans-50\"/>\n       <use x=\"147.412109\" xlink:href=\"#DejaVuSans-48\"/>\n      </g>\n     </g>\n    </g>\n    <g id=\"ytick_3\">\n     <g id=\"line2d_8\">\n      <g>\n       <use style=\"stroke:#000000;stroke-width:0.8;\" x=\"35.304688\" xlink:href=\"#mecf9f297d5\" y=\"115.159081\"/>\n      </g>\n     </g>\n     <g id=\"text_8\">\n      <!-- 0 -->\n      <g transform=\"translate(21.942188 118.958299)scale(0.1 -0.1)\">\n       <use xlink:href=\"#DejaVuSans-48\"/>\n      </g>\n     </g>\n    </g>\n    <g id=\"ytick_4\">\n     <g id=\"line2d_9\">\n      <g>\n       <use style=\"stroke:#000000;stroke-width:0.8;\" x=\"35.304688\" xlink:href=\"#mecf9f297d5\" y=\"75.298731\"/>\n      </g>\n     </g>\n     <g id=\"text_9\">\n      <!-- 20 -->\n      <g transform=\"translate(15.579688 79.09795)scale(0.1 -0.1)\">\n       <use xlink:href=\"#DejaVuSans-50\"/>\n       <use x=\"63.623047\" xlink:href=\"#DejaVuSans-48\"/>\n      </g>\n     </g>\n    </g>\n    <g id=\"ytick_5\">\n     <g id=\"line2d_10\">\n      <g>\n       <use style=\"stroke:#000000;stroke-width:0.8;\" x=\"35.304688\" xlink:href=\"#mecf9f297d5\" y=\"35.438381\"/>\n      </g>\n     </g>\n     <g id=\"text_10\">\n      <!-- 40 -->\n      <g transform=\"translate(15.579688 39.2376)scale(0.1 -0.1)\">\n       <use xlink:href=\"#DejaVuSans-52\"/>\n       <use x=\"63.623047\" xlink:href=\"#DejaVuSans-48\"/>\n      </g>\n     </g>\n    </g>\n   </g>\n   <g id=\"patch_3\">\n    <path d=\"M 35.304688 224.64 \nL 35.304688 7.2 \n\" style=\"fill:none;stroke:#000000;stroke-linecap:square;stroke-linejoin:miter;stroke-width:0.8;\"/>\n   </g>\n   <g id=\"patch_4\">\n    <path d=\"M 370.104688 224.64 \nL 370.104688 7.2 \n\" style=\"fill:none;stroke:#000000;stroke-linecap:square;stroke-linejoin:miter;stroke-width:0.8;\"/>\n   </g>\n   <g id=\"patch_5\">\n    <path d=\"M 35.304687 224.64 \nL 370.104687 224.64 \n\" style=\"fill:none;stroke:#000000;stroke-linecap:square;stroke-linejoin:miter;stroke-width:0.8;\"/>\n   </g>\n   <g id=\"patch_6\">\n    <path d=\"M 35.304687 7.2 \nL 370.104687 7.2 \n\" style=\"fill:none;stroke:#000000;stroke-linecap:square;stroke-linejoin:miter;stroke-width:0.8;\"/>\n   </g>\n  </g>\n </g>\n <defs>\n  <clipPath id=\"p8168d66a92\">\n   <rect height=\"217.44\" width=\"334.8\" x=\"35.304688\" y=\"7.2\"/>\n  </clipPath>\n </defs>\n</svg>\n",
            "image/png": "[encoded data removed]"
          },
          "metadata": {
            "needs_background": "light"
          }
        }
      ]
    },
    {
      "cell_type": "code",
      "metadata": {
        "id": "CjicDDkW776M"
      },
      "source": [
        "# Number of drones\n",
        "drones_num = 10\n",
        "\n",
        "# Length of a single cycle in seconds\n",
        "cycle_length = 1.0\n",
        "\n",
        "# Maximum speed of drones in points / seconds\n",
        "max_speed = 0.5\n",
        "\n",
        "# Definition of the global state\n",
        "\n",
        "# Coordinates of the drones locations\n",
        "drones_locations = np.zeros((drones_num, 2), dtype=float)\n",
        "\n",
        "# Amounts of sensing data to send per drone\n",
        "sensing_data_amounts = np.zeros(drones_num, dtype=float)\n",
        "\n",
        "# AoIs (age of information) per sensing location. Denotes the last cycle in which\n",
        "# any drone performed sensing at a specific sensing location\n",
        "aois = np.zeros(locations_num, dtype=int)\n",
        "\n",
        "# Indices of the chosen locations per drone. They are chosen in the decision cycles.\n",
        "# The initial values are not significant.\n",
        "chosen_locations = np.zeros(drones_num, dtype=int)\n",
        "\n",
        "\n",
        "# Returns the AoI of the given location\n",
        "def get_location_aoi(cycle, location_index):\n",
        "    return (cycle * cycle_length) - ((aois[location_index] // cycle_length) * cycle_length)\n",
        "\n",
        "# Returns the trajectory for the current cycle \n",
        "def get_trajectory(drone_index):\n",
        "    chosen_location_index = chosen_locations[drone_index]\n",
        "    chosen_location = sensing_locations[chosen_location_index]\n",
        "    drone_location = drones_locations[drone_index]\n",
        "    distance = np.linalg.norm(chosen_location - drone_location)\n",
        "    if distance <= max_speed * cycle_length:\n",
        "        return chosen_location - drone_location\n",
        "    else:\n",
        "        return ((chosen_location - drone_location) / distance) * max_speed * cycle_length"
      ],
      "execution_count": 4,
      "outputs": []
    },
    {
      "cell_type": "code",
      "metadata": {
        "id": "r5yp0-M0776M"
      },
      "source": [
        "# Simplifying transmission step: only considering a bandwidth and a total amount of\n",
        "# data for every location. Assumption: tasks are equal, so the amount of data is the same.\n",
        "\n",
        "# Transmission bandwidth per cycle\n",
        "bandwidth = 0.5\n",
        "\n",
        "# Total amount of sensing data per location\n",
        "total_location_data = 3.0\n",
        "\n",
        "# Amount of data transmissible per cycle \n",
        "data_transmission_cycle = bandwidth * cycle_length"
      ],
      "execution_count": 5,
      "outputs": []
    },
    {
      "cell_type": "code",
      "metadata": {
        "colab": {
          "base_uri": "https://localhost:8080/"
        },
        "id": "WSggMB3mNqTS",
        "outputId": "6a13244f-615e-4ee1-dc20-f86d56b2cc84"
      },
      "source": [],
      "execution_count": 25,
      "outputs": [
        {
          "output_type": "execute_result",
          "data": {
            "text/plain": [
              "ArraySpec(shape=(1,), dtype=dtype('int32'), name='action')"
            ]
          },
          "metadata": {
            "tags": []
          },
          "execution_count": 25
        }
      ]
    },
    {
      "cell_type": "code",
      "metadata": {
        "id": "x5X_eV09776N"
      },
      "source": [
        "'''\n",
        "Using Deep Q Learning. Having current drone location (x,y), \n",
        "potential sensing location (x',y') (could also directly consider distance\n",
        "between the two locations) and AoI of the sensing location\n",
        "as features, the network should output a Q value. The higher\n",
        "the value the better this sensing location choice. Executing the network\n",
        "at the decision cycle for every sensing location and choosing the one\n",
        "that outputs the highest Q value. After each decision, the Q network\n",
        "should be updated by performing backpropagation and considering the error.\n",
        "'''\n",
        "\n",
        "class DurpEnv(py_environment.PyEnvironment):\n",
        "    def __init__(self, drone):\n",
        "        self._drone = drone\n",
        "        self._cycle = 1\n",
        "        self._action_spec = array_spec.BoundedArraySpec(\n",
        "            shape=(), dtype=np.float32, minimum=0, maximum=locations_num-0.001, name='action')\n",
        "        self._observation_spec = array_spec.BoundedArraySpec(shape=(2,),\n",
        "            minimum=(-map_size/2), maximum=(map_size/2), dtype=np.float32)\n",
        "        \n",
        "        self._state = 0 # TODO: not sure if we need this\n",
        "        self._episode_ended = False\n",
        "\n",
        "    def action_spec(self):\n",
        "        return self._action_spec\n",
        "\n",
        "    def observation_spec(self):\n",
        "        return self._observation_spec\n",
        "\n",
        "\n",
        "    # Not needed\n",
        "    def _reset(self):\n",
        "        self._state = 0\n",
        "        self._episode_ended = False\n",
        "        return ts.restart(np.array([self._state], dtype=np.int32))\n",
        "\n",
        "    def _step(self, action):\n",
        "        '''\n",
        "        if self._episode_ended:\n",
        "            # The last action ended the episode. Ignore the current action and start\n",
        "            # a new episode.\n",
        "            return self.reset()\n",
        "        '''\n",
        "\n",
        "        # Performing next step\n",
        "\n",
        "        chosen_location_index = int(action)\n",
        "\n",
        "        # Updating AoI of chosen destination\n",
        "        np.insert(aois, (chosen_location_index), self._cycle, axis=0)\n",
        "\n",
        "        # Calculating reward considering new accumulated AoI (sum of AoIs) and distance from chosen location\n",
        "        accumulated_aoi = sum([get_location_aoi(self.cycle) for location in aois])\n",
        "\n",
        "        # Using sigmoid function to obtain a value between 0 and 1. Then subtracting it\n",
        "        # to 1 since we need the reverse, the lower the aoi the better, so the higher\n",
        "        # the reward.\n",
        "        normalized_acc_aoi_component = (1 - (1/(1+np.exp(-accumulated_aoi))))\n",
        "\n",
        "\n",
        "        # Taking distance between current location and chosen location\n",
        "        chosen_location = sensing_locations[chosen_location_index]\n",
        "        drone_location = drones_locations[self._drone]\n",
        "        distance = np.linalg.norm(chosen_location - drone_location)\n",
        "\n",
        "\n",
        "        # Normalizing distance\n",
        "        # between 0 and 1. The smaller the distance, the higher the reward.\n",
        "        normalized_location_distance = (1 - (1/(1+np.exp(-distance))))\n",
        "\n",
        "        # Computing reward using weights\n",
        "        reward = normalized_acc_aoi_component * 0.7 + distance * 0.3\n",
        "            \n",
        "\n",
        "\n",
        "        # TODO: return some pair (state, reward)\n",
        "        #if response == ActionResult.GAME_COMPLETE:\n",
        "            #return timeStep.termination(self._game.game_state(), 10)\n",
        "        #return timeStep.transition(self._game.game_state(), reward=-0.3, discount=1.0)\n",
        "        self.cycle += 1\n",
        "\n",
        "\n",
        "learning_rate = 0.001\n",
        "\n",
        "optimizer = tf.keras.optimizers.Adam(learning_rate=learning_rate)\n",
        "\n",
        "agents = []\n",
        "for drone in range(drones_num):\n",
        "\n",
        "    durp_env = DurpEnv(drone)\n",
        "\n",
        "    train_env = tf_py_environment.TFPyEnvironment(durp_env)\n",
        "\n",
        "    actor_net = actor_network.ActorNetwork(\n",
        "        train_env.observation_spec(), \n",
        "        train_env.action_spec()\n",
        "    )\n",
        "\n",
        "    critic_net = critic_network.CriticNetwork(\n",
        "        (train_env.observation_spec(), train_env.action_spec()), \n",
        "        output_activation_fn=tf.keras.activations.sigmoid,\n",
        "        activation_fn=tf.nn.relu\n",
        "    )\n",
        "\n",
        "    '''\n",
        "    q_net = q_network.QNetwork(\n",
        "    train_env.observation_spec(),\n",
        "    train_env.action_spec(),\n",
        "    fc_layer_params=(100,))'''\n",
        "\n",
        "    agent = ddpg_agent.DdpgAgent(\n",
        "    train_env.time_step_spec(),\n",
        "    train_env.action_spec(),\n",
        "    critic_network=critic_net,\n",
        "    actor_network=actor_net,\n",
        "    critic_optimizer=optimizer,\n",
        "    #td_errors_loss_fn=utils.common.element_wise_squared_loss,\n",
        "    train_step_counter=tf.Variable(0)\n",
        "    )\n",
        "\n",
        "    agent.initialize()\n",
        "    agents.append(agent)"
      ],
      "execution_count": 26,
      "outputs": []
    },
    {
      "cell_type": "code",
      "metadata": {
        "id": "KS0CyA4G776N"
      },
      "source": [
        "# Number of total cycles for the simulation\n",
        "cycles_num = 500\n",
        "\n",
        "# Running simulation (one cycle at a time for every drone)\n",
        "for cycle in range(1, cycles_num + 1):\n",
        "    for drone in range(drones_num):\n",
        "        # TODO: select next location in some way during decision cycle\n",
        "        aoi = get_location_aoi(cycle, chosen_locations[drone])\n",
        "        if aoi == cycle_length: # Decision cycle\n",
        "            pass\n",
        "        elif (drones_locations[drone] != chosen_locations[drone]).all(): # Empty cycle\n",
        "            trajectory = get_trajectory(drone)\n",
        "            new_location = drones_locations[drone] + trajectory\n",
        "            # Updating drone location\n",
        "            np.insert(drones_locations, drone, new_location, axis=0)\n",
        "        elif sensing_data_amounts[drone] == 0.0: # Sensing cycle\n",
        "            # Updating drone sensing data remaining amount\n",
        "            np.insert(sensing_data_amounts, drone, total_location_data, axis=0)\n",
        "        else: # Transmission cycle\n",
        "            # Updating drone sensing data remaining amount\n",
        "            np.insert(sensing_data_amounts, drone, \n",
        "                np.max(sensing_data_amounts[drone] - data_transmission_cycle, 0.0), axis=0)\n",
        "            # Updating the AoI if the transmission has been completed\n",
        "            if sensing_data_amounts[drone] == 0.0:\n",
        "                np.insert(aois, chosen_locations[drone], cycle, axis=0)\n",
        "\n"
      ],
      "execution_count": null,
      "outputs": []
    },
    {
      "cell_type": "code",
      "metadata": {
        "id": "yzSV3COa776O"
      },
      "source": [],
      "execution_count": null,
      "outputs": []
    }
  ]
}